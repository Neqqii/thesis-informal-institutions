{
 "cells": [
  {
   "cell_type": "code",
   "execution_count": 2,
   "metadata": {
    "scrolled": true
   },
   "outputs": [
    {
     "name": "stdout",
     "output_type": "stream",
     "text": [
      "Index(['Series Name', 'Series Code', 'Country Name', 'Country Code',\n",
      "       '1990 [YR1990]', '1991 [YR1991]', '1992 [YR1992]', '1993 [YR1993]',\n",
      "       '1994 [YR1994]', '1995 [YR1995]', '1996 [YR1996]', '1997 [YR1997]',\n",
      "       '1998 [YR1998]', '1999 [YR1999]', '2000 [YR2000]', '2001 [YR2001]',\n",
      "       '2002 [YR2002]', '2003 [YR2003]', '2004 [YR2004]', '2005 [YR2005]',\n",
      "       '2006 [YR2006]', '2007 [YR2007]', '2008 [YR2008]', '2009 [YR2009]',\n",
      "       '2010 [YR2010]', '2011 [YR2011]', '2012 [YR2012]', '2013 [YR2013]',\n",
      "       '2014 [YR2014]', '2015 [YR2015]', '2016 [YR2016]', '2017 [YR2017]',\n",
      "       '2018 [YR2018]', '2019 [YR2019]'],\n",
      "      dtype='object')\n",
      "                      Country Name Country Code      1990 [YR1990]  \\\n",
      "0   Central Europe and the Baltics          CEB                 ..   \n",
      "1                        Euro area          EMU   3.58349791796675   \n",
      "2                   European Union          EUU   2.98218908021408   \n",
      "3                          Belgium          BEL   3.13740246177889   \n",
      "4                          Austria          AUT   4.34564154381593   \n",
      "5                         Bulgaria          BGR  -9.11737709653305   \n",
      "6                          Croatia          HRV                 ..   \n",
      "7                           Cyprus          CYP   7.40399950603849   \n",
      "8                   Czech Republic          CZE                 ..   \n",
      "9                          Denmark          DNK   1.47524426157177   \n",
      "10                         Estonia          EST                 ..   \n",
      "11                         Finland          FIN  0.642744501314226   \n",
      "12                          France          FRA    2.9239351370326   \n",
      "13                         Germany          DEU   5.25500608859595   \n",
      "14                          Greece          GRC                  0   \n",
      "15                         Hungary          HUN                 ..   \n",
      "16                         Ireland          IRL     8.466527956566   \n",
      "17                           Italy          ITA   1.98577489860918   \n",
      "18                          Latvia          LVA                 ..   \n",
      "19                       Lithuania          LTU                 ..   \n",
      "20                      Luxembourg          LUX   5.31993177546022   \n",
      "21                           Malta          MLT   6.29139095831171   \n",
      "22                     Netherlands          NLD   4.18322280820233   \n",
      "23                          Poland          POL                 ..   \n",
      "24                         Romania          ROU                 ..   \n",
      "25                        Portugal          PRT   3.95052335579126   \n",
      "26                        Slovenia          SVN                 ..   \n",
      "27                 Slovak Republic          SVK                 ..   \n",
      "\n",
      "        1991 [YR1991]       1992 [YR1992]       1993 [YR1993]  \\\n",
      "0                  ..                  ..                  ..   \n",
      "1     2.6231377588866    1.39356523578304  -0.657212575677747   \n",
      "2    1.57601540852504    1.01894103003129  -0.221908879695192   \n",
      "3    1.83307427924075    1.53065483605788  -0.961873090440875   \n",
      "4    3.44162744917193    2.09352470997408   0.526809466130729   \n",
      "5   -8.44535523808105   -7.27238790651938   -1.48021482899122   \n",
      "6                  ..                  ..                  ..   \n",
      "7   0.739501202599484    9.39999901631705   0.700000488145406   \n",
      "8    -11.614942358929  -0.506542350091891  0.0619042481668259   \n",
      "9    1.39363400503063    1.95700670472409  0.0106876521799961   \n",
      "10                 ..                  ..                  ..   \n",
      "11   -5.9123879047787   -3.32116107225828   -0.68897382405973   \n",
      "12   1.04817582672602    1.59934268998583   -0.62866637130098   \n",
      "13   5.10826150765951    1.92807343038962  -0.979339906561634   \n",
      "14   3.09999998861477    0.70000000474235   -1.59999996232489   \n",
      "15                 ..   -3.06418034540683  -0.576108517193219   \n",
      "16   1.92963954924177    3.34327431559245    2.69260920066976   \n",
      "17   1.53844755787564   0.834275460621242   -0.85280574993206   \n",
      "18                 ..                  ..                  ..   \n",
      "19                 ..                  ..                  ..   \n",
      "20   8.64419057624002    1.81965281811752     4.2006480382002   \n",
      "21   6.25649208213194    4.69093243062588    4.48074935883751   \n",
      "22   2.43913450551463    1.70607089680321    1.25755220334295   \n",
      "23                 ..                  ..                  ..   \n",
      "24  -12.9182107304506    -8.7672284522824    1.52883449664077   \n",
      "25   4.36820647933141    1.08947648536744   -2.04327704349365   \n",
      "26   -8.9001071506368   -5.46369909654157    2.84341791972646   \n",
      "27                 ..                  ..    1.90132730408163   \n",
      "\n",
      "        1994 [YR1994]      1995 [YR1995]  1996 [YR1996]  1997 [YR1997]  ...  \\\n",
      "0                  ..                 ..       4.327205       3.051640  ...   \n",
      "1    2.46093704338266   2.42062287975671       1.703676       2.708624  ...   \n",
      "2    2.77831104481339   2.70547532503839       1.966289       2.870504  ...   \n",
      "3    3.22697146648132   2.38475720698521       1.321478       3.793645  ...   \n",
      "4    2.40211876560241   2.66798366152948       2.349534       2.093599  ...   \n",
      "5    1.81801124071566   2.86018944148833       0.704681      -1.088820  ...   \n",
      "6                  ..                 ..       5.833546       6.752933  ...   \n",
      "7    5.89999870094491   8.36246930466571       1.248582       2.640895  ...   \n",
      "8    2.90930946382764   6.22140600246843       4.222815      -0.594659  ...   \n",
      "9    5.33246266135845   3.02758730901766       2.900100       3.260890  ...   \n",
      "10   -1.6424246224986   4.52668179218799       4.935972      13.046535  ...   \n",
      "11   3.93449839856275   4.21756148714339       3.667309       6.334235  ...   \n",
      "12   2.35834220730796   2.10669523353155       1.412994       2.336296  ...   \n",
      "13     2.398049086341    1.5347974754814       0.820954       1.783637  ...   \n",
      "14   2.00000002461354   2.09971974391323       2.862129       4.484199  ...   \n",
      "15    2.9471545567159   1.48952547556762       0.082416       3.143124  ...   \n",
      "16   5.75582691819758   9.63442233850276       7.414229      10.903730  ...   \n",
      "17   2.15102364473378   2.88683673806503       1.266785       1.830212  ...   \n",
      "18                 ..  -1.79878843412742       2.546056       8.939248  ...   \n",
      "19                 ..                 ..       5.149959       8.293229  ...   \n",
      "20   3.82092114294026   1.43220018020473       1.388428       5.709717  ...   \n",
      "21    5.6511047373605   6.34249318337497       3.777336       5.256980  ...   \n",
      "22   2.96109243145828   3.11603596574939       3.498742       4.329053  ...   \n",
      "23                 ..                 ..       6.056577       6.459354  ...   \n",
      "24   3.93194272962506   6.23351148371351       3.907702      -4.849063  ...   \n",
      "25  0.964838228354807   4.28278040832582       3.504247       4.400868  ...   \n",
      "26   5.32748770741991   4.10716055982748       3.203002       5.049794  ...   \n",
      "27    6.2055302283329   5.84349533859489       6.619896       5.925837  ...   \n",
      "\n",
      "    2010 [YR2010]  2011 [YR2011]  2012 [YR2012]  2013 [YR2013]  2014 [YR2014]  \\\n",
      "0        1.595996       3.230668       0.761746       1.259779       3.041186   \n",
      "1        2.133539       1.686521      -0.892158      -0.252895       1.401016   \n",
      "2        2.168119       1.791124      -0.422810       0.264743       1.738959   \n",
      "3        2.864285       1.694497       0.739230       0.459228       1.578523   \n",
      "4        1.837094       2.922797       0.680446       0.025505       0.661273   \n",
      "5        1.324088       1.914906       0.030970       0.493921       1.837521   \n",
      "6       -1.496259      -0.309847      -2.237705      -0.548519      -0.103868   \n",
      "7        2.014696       0.401438      -3.446822      -6.553078      -1.863740   \n",
      "8        2.273420       1.777833      -0.799844      -0.483671       2.715116   \n",
      "9        1.870991       1.336778       0.226500       0.933341       1.619394   \n",
      "10       2.706903       7.441585       3.110235       1.346188       2.987326   \n",
      "11       3.185912       2.547530      -1.397355      -0.902018      -0.364940   \n",
      "12       1.949438       2.192701       0.313135       0.576327       0.956183   \n",
      "13       4.178969       3.924133       0.419551       0.428243       2.225689   \n",
      "14      -5.479037      -9.132494      -7.300494      -3.241425       0.739777   \n",
      "15       0.664292       1.819080      -1.471789       1.962984       4.195082   \n",
      "16       1.809980       0.343441       0.225715       1.351634       8.556688   \n",
      "17       1.713296       0.707333      -2.980906      -1.841065      -0.004548   \n",
      "18      -4.473441       6.285119       4.134232       2.328004       1.915190   \n",
      "19       1.482232       6.025638       3.833303       3.558425       3.507971   \n",
      "20       4.864968       2.539235      -0.352519       3.654370       4.296786   \n",
      "21       3.542683       1.307153       2.791205       4.610879       8.706315   \n",
      "22       1.342739       1.551189      -1.030354      -0.130175       1.423395   \n",
      "23       3.606928       5.017235       1.607907       1.391892       3.318448   \n",
      "24      -3.901236       2.007156       2.077165       3.514552       3.410809   \n",
      "25       1.737626      -1.696166      -4.057294      -0.922644       0.792191   \n",
      "26       1.343748       0.861329      -2.639439      -1.029284       2.768158   \n",
      "27       5.720845       2.864443       1.895811       0.670845       2.752434   \n",
      "\n",
      "    2015 [YR2015]  2016 [YR2016]  2017 [YR2017]  2018 [YR2018]  2019 [YR2019]  \n",
      "0        3.908288       3.050637       4.799035       4.305527             ..  \n",
      "1        2.113835       1.910213       2.542169       1.899850             ..  \n",
      "2        2.352837       2.039218       2.597721       2.014855             ..  \n",
      "3        2.032789       1.511106       1.964193       1.458405             ..  \n",
      "4        1.014502       2.082608       2.476444       2.419764             ..  \n",
      "5        3.471186       3.936758       3.811248       3.081157             ..  \n",
      "6        2.437139       3.483525       3.139196       2.630786             ..  \n",
      "7        3.374687       6.746584       4.361229       4.060192             ..  \n",
      "8        5.309239       2.450542       4.352604       2.957784             ..  \n",
      "9        2.342590       3.245958       2.036165       2.391330             ..  \n",
      "10       1.844885       2.631568       5.748802       4.761158             ..  \n",
      "11       0.560595       2.627998       3.051281       1.671439             ..  \n",
      "12       1.112912       1.095464       2.260203       1.724881             ..  \n",
      "13       1.739750       2.230000       2.465030       1.527446             ..  \n",
      "14      -0.437834      -0.190952       1.505099       1.934371             ..  \n",
      "15       3.845558       2.199999       4.322809       5.094003             ..  \n",
      "16      25.162533       3.677816       8.145296       8.169871             ..  \n",
      "17       0.778304       1.279671       1.716167       0.774340             ..  \n",
      "18       3.260524       1.773810       3.787314       4.620777             ..  \n",
      "19       2.033148       2.555940       4.247577       3.644757             ..  \n",
      "20       4.306433       4.574600       1.801182       3.110836             ..  \n",
      "21      10.818180       5.675699       6.724326       6.772328             ..  \n",
      "22       1.959170       2.191714       2.910903       2.597454             ..  \n",
      "23       3.839071       3.063908       4.937663       5.148018             ..  \n",
      "24       3.871522       4.800800       7.111441       3.953811             ..  \n",
      "25       1.792046       2.019485       3.506345       2.441267             ..  \n",
      "26       2.210082       3.121700       4.833383       4.118218             ..  \n",
      "27       4.821919       2.123463       3.040728       4.033703             ..  \n",
      "\n",
      "[28 rows x 32 columns]\n"
     ]
    }
   ],
   "source": [
    "import pandas as pd\n",
    "import numpy as np\n",
    "import os\n",
    "import plotly.offline as pyo\n",
    "import plotly as ply\n",
    "import plotly.tools as tls\n",
    "import plotly.graph_objs as go\n",
    "import cufflinks as cfl\n",
    "\n",
    "os.chdir('C:\\\\Users\\\\Nvmind\\\\github\\\\thesis-informal-institutions\\\\Research\\\\Datasets')\n",
    "\n",
    "# Импорт датасета (GDP growth)\n",
    "aux_df1 = pd.read_csv('gdp_growth_90to19.csv')\n",
    "\n",
    "aux_colnames1 = aux_df1.columns\n",
    "print(aux_colnames1)\n",
    "\n",
    "# Оставляем нужные столбцы\n",
    "gdp_annual_growth = aux_df1[0:28][['Country Name', 'Country Code',\n",
    "                                   '1990 [YR1990]', '1991 [YR1991]', '1992 [YR1992]', '1993 [YR1993]',\n",
    "                                   '1994 [YR1994]', '1995 [YR1995]', '1996 [YR1996]', '1997 [YR1997]',\n",
    "                                   '1998 [YR1998]', '1999 [YR1999]', '2000 [YR2000]', '2001 [YR2001]',\n",
    "                                   '2002 [YR2002]', '2003 [YR2003]', '2004 [YR2004]', '2005 [YR2005]',\n",
    "                                   '2006 [YR2006]', '2007 [YR2007]', '2008 [YR2008]', '2009 [YR2009]',\n",
    "                                   '2010 [YR2010]', '2011 [YR2011]', '2012 [YR2012]', '2013 [YR2013]',\n",
    "                                   '2014 [YR2014]', '2015 [YR2015]', '2016 [YR2016]', '2017 [YR2017]',\n",
    "                                   '2018 [YR2018]', '2019 [YR2019]']]\n",
    "\n",
    "print(gdp_annual_growth)"
   ]
  },
  {
   "cell_type": "code",
   "execution_count": 3,
   "metadata": {},
   "outputs": [
    {
     "name": "stdout",
     "output_type": "stream",
     "text": [
      "Index(['Series Name', 'Series Code', 'Country Name', 'Country Code',\n",
      "       '1990 [YR1990]', '2000 [YR2000]', '2010 [YR2010]', '2011 [YR2011]',\n",
      "       '2012 [YR2012]', '2013 [YR2013]', '2014 [YR2014]', '2015 [YR2015]',\n",
      "       '2016 [YR2016]', '2017 [YR2017]', '2018 [YR2018]', '2019 [YR2019]'],\n",
      "      dtype='object')\n",
      "       Country Name  2017 [YR2017]\n",
      "0           Austria   4.320725e+11\n",
      "1           Belgium   5.309947e+11\n",
      "2          Bulgaria   5.895079e+10\n",
      "3           Croatia   6.331331e+10\n",
      "4            Cyprus   2.634446e+10\n",
      "5    Czech Republic   2.410738e+11\n",
      "6           Denmark   3.616546e+11\n",
      "7           Estonia   2.515922e+10\n",
      "8           Finland   2.645776e+11\n",
      "9            France   2.875308e+12\n",
      "10          Germany   3.878004e+12\n",
      "11           Greece   2.479275e+11\n",
      "12          Hungary   1.547455e+11\n",
      "13          Ireland   3.449588e+11\n",
      "14            Italy   2.124740e+12\n",
      "15           Latvia   2.995851e+10\n",
      "16        Lithuania   4.766138e+10\n",
      "17       Luxembourg   6.527074e+10\n",
      "18            Malta   1.294924e+10\n",
      "19      Netherlands   9.240978e+11\n",
      "20           Poland   6.017206e+11\n",
      "21         Portugal   2.408282e+11\n",
      "22          Romania   2.160331e+11\n",
      "23  Slovak Republic   1.078533e+11\n",
      "24         Slovenia   5.315134e+10\n",
      "25            Spain   1.504165e+12\n",
      "26           Sweden   5.769843e+11\n",
      "27   United Kingdom   2.841238e+12\n"
     ]
    }
   ],
   "source": [
    "# Импорт датасета (GDP)\n",
    "aux_df5 = pd.read_csv('gdp_constant_prices.csv')\n",
    "\n",
    "aux_colnames5 = aux_df5.columns\n",
    "print(aux_colnames5)\n",
    "\n",
    "# Приводим данные в нормальный вид\n",
    "gdp = aux_df5[0:28][['Country Name',\n",
    "                     '2017 [YR2017]']]\n",
    "\n",
    "# Сортируем\n",
    "gdp = gdp.sort_values(by=['Country Name']).reset_index(drop=True)\n",
    "\n",
    "print(gdp)"
   ]
  },
  {
   "cell_type": "code",
   "execution_count": 4,
   "metadata": {},
   "outputs": [
    {
     "name": "stdout",
     "output_type": "stream",
     "text": [
      "Index(['Series Name', 'Series Code', 'Country Name', 'Country Code',\n",
      "       '1990 [YR1990]', '2000 [YR2000]', '2010 [YR2010]', '2011 [YR2011]',\n",
      "       '2012 [YR2012]', '2013 [YR2013]', '2014 [YR2014]', '2015 [YR2015]',\n",
      "       '2016 [YR2016]', '2017 [YR2017]', '2018 [YR2018]', '2019 [YR2019]'],\n",
      "      dtype='object')\n",
      "       Country Name  2017 [YR2017]\n",
      "0           Austria      8797566.0\n",
      "1           Belgium     11375158.0\n",
      "2          Bulgaria      7075947.0\n",
      "3           Croatia      4124531.0\n",
      "4            Cyprus      1179680.0\n",
      "5    Czech Republic     10594438.0\n",
      "6           Denmark      5764980.0\n",
      "7           Estonia      1317384.0\n",
      "8           Finland      5508214.0\n",
      "9            France     66865144.0\n",
      "10          Germany     82657002.0\n",
      "11           Greece     10754679.0\n",
      "12          Hungary      9787966.0\n",
      "13          Ireland      4807388.0\n",
      "14            Italy     60536709.0\n",
      "15           Latvia      1942248.0\n",
      "16        Lithuania      2828403.0\n",
      "17       Luxembourg       596336.0\n",
      "18            Malta       467999.0\n",
      "19      Netherlands     17131296.0\n",
      "20           Poland     37974826.0\n",
      "21         Portugal     10300300.0\n",
      "22          Romania     19587491.0\n",
      "23  Slovak Republic      5439232.0\n",
      "24         Slovenia      2066388.0\n",
      "25            Spain     46593236.0\n",
      "26           Sweden     10057698.0\n",
      "27   United Kingdom     66058859.0\n"
     ]
    }
   ],
   "source": [
    "# Импорт датасета (population)\n",
    "aux_df2 = pd.read_csv('population_90to19.csv')\n",
    "\n",
    "aux_colnames2 = aux_df2.columns\n",
    "print(aux_colnames2)\n",
    "\n",
    "# Приводим данные в нормальный вид\n",
    "pops = aux_df2[0:28][['Country Name',\n",
    "                      '2017 [YR2017]']]\n",
    "\n",
    "# Сортируем\n",
    "pops = pops.sort_values(by=['Country Name']).reset_index(drop=True)\n",
    "\n",
    "print(pops)"
   ]
  },
  {
   "cell_type": "code",
   "execution_count": 5,
   "metadata": {},
   "outputs": [
    {
     "name": "stdout",
     "output_type": "stream",
     "text": [
      "Index(['geo', '2006 ', '2007 ', '2008 ', '2009 ', '2010 ', '2011 ', '2012 ',\n",
      "       '2013 ', '2014 ', '2015 ', '2016 ', '2017'],\n",
      "      dtype='object')\n",
      "                geo    2017\n",
      "0           Austria   66144\n",
      "1           Belgium   89690\n",
      "2          Bulgaria   31586\n",
      "3           Croatia   47352\n",
      "4            Cyprus   15105\n",
      "5    Czech Republic   27316\n",
      "6           Denmark   56403\n",
      "7           Estonia   12358\n",
      "8           Finland   16973\n",
      "9            France  312554\n",
      "10          Germany  560700\n",
      "11           Greece  103327\n",
      "12          Hungary   39829\n",
      "13          Ireland   64068\n",
      "14            Italy  155110\n",
      "15           Latvia   17724\n",
      "16        Lithuania   47925\n",
      "17       Luxembourg   13831\n",
      "18            Malta    7020\n",
      "19      Netherlands  108231\n",
      "20           Poland  218492\n",
      "21         Portugal   31753\n",
      "22          Romania  242193\n",
      "23  Slovak Republic    3466\n",
      "24         Slovenia   17555\n",
      "25            Spain  368860\n",
      "26           Sweden   45620\n",
      "27   United Kingdom  359665\n"
     ]
    }
   ],
   "source": [
    "# Создаем словарь для кодов стран\n",
    "ccodes = ['AT', 'BE', 'BG', 'CY', 'CZ', 'DE', 'DK', 'EE', 'EL', 'ES', 'FI', 'FR',\n",
    "          'HR', 'HU', 'IE',  'IT', 'LT', 'LV', 'MT', 'NL', 'PL', 'PT', 'RO', 'SE',\n",
    "          'SL', 'SK', 'UK', 'LU']\n",
    "\n",
    "ccodes_dict = {'AT': 'Austria', 'BE': 'Belgium', 'BG': 'Bulgaria', 'CY': 'Cyprus',\n",
    "               'CZ': 'Czech Republic', 'DE': 'Germany', 'DK': 'Denmark',  'EE': 'Estonia',\n",
    "               'EL': 'Greece',  'ES': 'Spain',   'FI': 'Finland',  'FR': 'France',\n",
    "               'HR': 'Croatia', 'HU': 'Hungary', 'IE': 'Ireland',  'IT': 'Italy',\n",
    "               'LT': 'Lithuania', 'LV': 'Latvia', 'MT': 'Malta', 'NL': 'Netherlands',\n",
    "               'PL': 'Poland', 'PT': 'Portugal', 'RO': 'Romania', 'SE': 'Sweden',\n",
    "               'SI': 'Slovenia', 'SK': 'Slovak Republic', 'UK': 'United Kingdom', 'LU': 'Luxembourg'}\n",
    "\n",
    "# Импорт датасета (emigration)\n",
    "aux_df3 = pd.read_csv('tps00177.csv')\n",
    "\n",
    "aux_colnames3 = aux_df3.columns\n",
    "print(aux_colnames3)\n",
    "\n",
    "# Приводим данные в нормальный вид\n",
    "emigration_total = aux_df3[['geo', '2017']]\n",
    "\n",
    "emigration_total['geo'] = emigration_total['geo'].map(ccodes_dict)\n",
    "\n",
    "# Сортируем\n",
    "emigration_total = emigration_total.sort_values('geo').reset_index(drop=True)\n",
    "\n",
    "print(emigration_total)"
   ]
  },
  {
   "cell_type": "code",
   "execution_count": 6,
   "metadata": {},
   "outputs": [
    {
     "name": "stdout",
     "output_type": "stream",
     "text": [
      "Index(['geo', '2006 ', '2007 ', '2008 ', '2009 ', '2010 ', '2011 ', '2012 ',\n",
      "       '2013 ', '2014 ', '2015 ', '2016 ', '2017'],\n",
      "      dtype='object')\n",
      "                geo    2017\n",
      "0           Austria  111801\n",
      "1           Belgium  126703\n",
      "2          Bulgaria   25597\n",
      "3           Croatia   15553\n",
      "4            Cyprus   21306\n",
      "5    Czech Republic   51847\n",
      "6           Denmark   68579\n",
      "7           Estonia   17616\n",
      "8           Finland   31797\n",
      "9            France  369964\n",
      "10          Germany  917109\n",
      "11           Greece  112247\n",
      "12          Hungary   68070\n",
      "13          Ireland   78499\n",
      "14            Italy  343440\n",
      "15           Latvia    9916\n",
      "16        Lithuania   20368\n",
      "17       Luxembourg   24379\n",
      "18            Malta   21676\n",
      "19      Netherlands  189646\n",
      "20           Poland  209353\n",
      "21         Portugal   36639\n",
      "22          Romania  177435\n",
      "23  Slovak Republic    7188\n",
      "24         Slovenia   18808\n",
      "25            Spain  532132\n",
      "26           Sweden  144489\n",
      "27   United Kingdom  644209\n"
     ]
    }
   ],
   "source": [
    "# Импорт датасета (immigration)\n",
    "aux_df4 = pd.read_csv('tps00176.csv')\n",
    "\n",
    "aux_colnames4 = aux_df4.columns\n",
    "print(aux_colnames4)\n",
    "\n",
    "# Приводим данные в нормальный вид\n",
    "immigration_total = aux_df4[['geo', '2017']]\n",
    "\n",
    "immigration_total['geo'] = immigration_total['geo'].map(ccodes_dict)\n",
    "\n",
    "# Сортируем\n",
    "immigration_total = immigration_total.sort_values('geo').reset_index(drop=True)\n",
    "\n",
    "print(immigration_total)"
   ]
  },
  {
   "cell_type": "code",
   "execution_count": 7,
   "metadata": {},
   "outputs": [
    {
     "name": "stdout",
     "output_type": "stream",
     "text": [
      "            Country           GDP  Population  Immigration  Emigration\n",
      "0           Austria  4.320725e+11   8797566.0       111801       66144\n",
      "1           Belgium  5.309947e+11  11375158.0       126703       89690\n",
      "2          Bulgaria  5.895079e+10   7075947.0        25597       31586\n",
      "3           Croatia  6.331331e+10   4124531.0        15553       47352\n",
      "4            Cyprus  2.634446e+10   1179680.0        21306       15105\n",
      "5    Czech Republic  2.410738e+11  10594438.0        51847       27316\n",
      "6           Denmark  3.616546e+11   5764980.0        68579       56403\n",
      "7           Estonia  2.515922e+10   1317384.0        17616       12358\n",
      "8           Finland  2.645776e+11   5508214.0        31797       16973\n",
      "9            France  2.875308e+12  66865144.0       369964      312554\n",
      "10          Germany  3.878004e+12  82657002.0       917109      560700\n",
      "11           Greece  2.479275e+11  10754679.0       112247      103327\n",
      "12          Hungary  1.547455e+11   9787966.0        68070       39829\n",
      "13          Ireland  3.449588e+11   4807388.0        78499       64068\n",
      "14            Italy  2.124740e+12  60536709.0       343440      155110\n",
      "15           Latvia  2.995851e+10   1942248.0         9916       17724\n",
      "16        Lithuania  4.766138e+10   2828403.0        20368       47925\n",
      "17       Luxembourg  6.527074e+10    596336.0        24379       13831\n",
      "18            Malta  1.294924e+10    467999.0        21676        7020\n",
      "19      Netherlands  9.240978e+11  17131296.0       189646      108231\n",
      "20           Poland  6.017206e+11  37974826.0       209353      218492\n",
      "21         Portugal  2.408282e+11  10300300.0        36639       31753\n",
      "22          Romania  2.160331e+11  19587491.0       177435      242193\n",
      "23  Slovak Republic  1.078533e+11   5439232.0         7188        3466\n",
      "24         Slovenia  5.315134e+10   2066388.0        18808       17555\n",
      "25            Spain  1.504165e+12  46593236.0       532132      368860\n",
      "26           Sweden  5.769843e+11  10057698.0       144489       45620\n",
      "27   United Kingdom  2.841238e+12  66058859.0       644209      359665\n"
     ]
    }
   ],
   "source": [
    "# Консолидация в один датасет\n",
    "eu_consolidate = {'Country': pops['Country Name'],\n",
    "                  'GDP': gdp['2017 [YR2017]'],\n",
    "                  'Population': pops['2017 [YR2017]'],\n",
    "                  'Immigration': immigration_total['2017'],\n",
    "                  'Emigration': emigration_total['2017']}\n",
    "eu_df = pd.DataFrame(eu_consolidate)\n",
    "print(eu_df)"
   ]
  },
  {
   "cell_type": "code",
   "execution_count": 8,
   "metadata": {},
   "outputs": [
    {
     "data": {
      "application/vnd.plotly.v1+json": {
       "config": {
        "plotlyServerURL": "https://plot.ly"
       },
       "data": [
        {
         "type": "bar",
         "x": [
          "Austria",
          "Belgium",
          "Bulgaria",
          "Croatia",
          "Cyprus",
          "Czech Republic",
          "Denmark",
          "Estonia",
          "Finland",
          "France",
          "Germany",
          "Greece",
          "Hungary",
          "Ireland",
          "Italy",
          "Latvia",
          "Lithuania",
          "Luxembourg",
          "Malta",
          "Netherlands",
          "Poland",
          "Portugal",
          "Romania",
          "Slovak Republic",
          "Slovenia",
          "Spain",
          "Sweden",
          "United Kingdom"
         ],
         "y": [
          8797566,
          11375158,
          7075947,
          4124531,
          1179680,
          10594438,
          5764980,
          1317384,
          5508214,
          66865144,
          82657002,
          10754679,
          9787966,
          4807388,
          60536709,
          1942248,
          2828403,
          596336,
          467999,
          17131296,
          37974826,
          10300300,
          19587491,
          5439232,
          2066388,
          46593236,
          10057698,
          66058859
         ]
        }
       ],
       "layout": {
        "template": {
         "data": {
          "bar": [
           {
            "error_x": {
             "color": "#2a3f5f"
            },
            "error_y": {
             "color": "#2a3f5f"
            },
            "marker": {
             "line": {
              "color": "#E5ECF6",
              "width": 0.5
             }
            },
            "type": "bar"
           }
          ],
          "barpolar": [
           {
            "marker": {
             "line": {
              "color": "#E5ECF6",
              "width": 0.5
             }
            },
            "type": "barpolar"
           }
          ],
          "carpet": [
           {
            "aaxis": {
             "endlinecolor": "#2a3f5f",
             "gridcolor": "white",
             "linecolor": "white",
             "minorgridcolor": "white",
             "startlinecolor": "#2a3f5f"
            },
            "baxis": {
             "endlinecolor": "#2a3f5f",
             "gridcolor": "white",
             "linecolor": "white",
             "minorgridcolor": "white",
             "startlinecolor": "#2a3f5f"
            },
            "type": "carpet"
           }
          ],
          "choropleth": [
           {
            "colorbar": {
             "outlinewidth": 0,
             "ticks": ""
            },
            "type": "choropleth"
           }
          ],
          "contour": [
           {
            "colorbar": {
             "outlinewidth": 0,
             "ticks": ""
            },
            "colorscale": [
             [
              0,
              "#0d0887"
             ],
             [
              0.1111111111111111,
              "#46039f"
             ],
             [
              0.2222222222222222,
              "#7201a8"
             ],
             [
              0.3333333333333333,
              "#9c179e"
             ],
             [
              0.4444444444444444,
              "#bd3786"
             ],
             [
              0.5555555555555556,
              "#d8576b"
             ],
             [
              0.6666666666666666,
              "#ed7953"
             ],
             [
              0.7777777777777778,
              "#fb9f3a"
             ],
             [
              0.8888888888888888,
              "#fdca26"
             ],
             [
              1,
              "#f0f921"
             ]
            ],
            "type": "contour"
           }
          ],
          "contourcarpet": [
           {
            "colorbar": {
             "outlinewidth": 0,
             "ticks": ""
            },
            "type": "contourcarpet"
           }
          ],
          "heatmap": [
           {
            "colorbar": {
             "outlinewidth": 0,
             "ticks": ""
            },
            "colorscale": [
             [
              0,
              "#0d0887"
             ],
             [
              0.1111111111111111,
              "#46039f"
             ],
             [
              0.2222222222222222,
              "#7201a8"
             ],
             [
              0.3333333333333333,
              "#9c179e"
             ],
             [
              0.4444444444444444,
              "#bd3786"
             ],
             [
              0.5555555555555556,
              "#d8576b"
             ],
             [
              0.6666666666666666,
              "#ed7953"
             ],
             [
              0.7777777777777778,
              "#fb9f3a"
             ],
             [
              0.8888888888888888,
              "#fdca26"
             ],
             [
              1,
              "#f0f921"
             ]
            ],
            "type": "heatmap"
           }
          ],
          "heatmapgl": [
           {
            "colorbar": {
             "outlinewidth": 0,
             "ticks": ""
            },
            "colorscale": [
             [
              0,
              "#0d0887"
             ],
             [
              0.1111111111111111,
              "#46039f"
             ],
             [
              0.2222222222222222,
              "#7201a8"
             ],
             [
              0.3333333333333333,
              "#9c179e"
             ],
             [
              0.4444444444444444,
              "#bd3786"
             ],
             [
              0.5555555555555556,
              "#d8576b"
             ],
             [
              0.6666666666666666,
              "#ed7953"
             ],
             [
              0.7777777777777778,
              "#fb9f3a"
             ],
             [
              0.8888888888888888,
              "#fdca26"
             ],
             [
              1,
              "#f0f921"
             ]
            ],
            "type": "heatmapgl"
           }
          ],
          "histogram": [
           {
            "marker": {
             "colorbar": {
              "outlinewidth": 0,
              "ticks": ""
             }
            },
            "type": "histogram"
           }
          ],
          "histogram2d": [
           {
            "colorbar": {
             "outlinewidth": 0,
             "ticks": ""
            },
            "colorscale": [
             [
              0,
              "#0d0887"
             ],
             [
              0.1111111111111111,
              "#46039f"
             ],
             [
              0.2222222222222222,
              "#7201a8"
             ],
             [
              0.3333333333333333,
              "#9c179e"
             ],
             [
              0.4444444444444444,
              "#bd3786"
             ],
             [
              0.5555555555555556,
              "#d8576b"
             ],
             [
              0.6666666666666666,
              "#ed7953"
             ],
             [
              0.7777777777777778,
              "#fb9f3a"
             ],
             [
              0.8888888888888888,
              "#fdca26"
             ],
             [
              1,
              "#f0f921"
             ]
            ],
            "type": "histogram2d"
           }
          ],
          "histogram2dcontour": [
           {
            "colorbar": {
             "outlinewidth": 0,
             "ticks": ""
            },
            "colorscale": [
             [
              0,
              "#0d0887"
             ],
             [
              0.1111111111111111,
              "#46039f"
             ],
             [
              0.2222222222222222,
              "#7201a8"
             ],
             [
              0.3333333333333333,
              "#9c179e"
             ],
             [
              0.4444444444444444,
              "#bd3786"
             ],
             [
              0.5555555555555556,
              "#d8576b"
             ],
             [
              0.6666666666666666,
              "#ed7953"
             ],
             [
              0.7777777777777778,
              "#fb9f3a"
             ],
             [
              0.8888888888888888,
              "#fdca26"
             ],
             [
              1,
              "#f0f921"
             ]
            ],
            "type": "histogram2dcontour"
           }
          ],
          "mesh3d": [
           {
            "colorbar": {
             "outlinewidth": 0,
             "ticks": ""
            },
            "type": "mesh3d"
           }
          ],
          "parcoords": [
           {
            "line": {
             "colorbar": {
              "outlinewidth": 0,
              "ticks": ""
             }
            },
            "type": "parcoords"
           }
          ],
          "pie": [
           {
            "automargin": true,
            "type": "pie"
           }
          ],
          "scatter": [
           {
            "marker": {
             "colorbar": {
              "outlinewidth": 0,
              "ticks": ""
             }
            },
            "type": "scatter"
           }
          ],
          "scatter3d": [
           {
            "line": {
             "colorbar": {
              "outlinewidth": 0,
              "ticks": ""
             }
            },
            "marker": {
             "colorbar": {
              "outlinewidth": 0,
              "ticks": ""
             }
            },
            "type": "scatter3d"
           }
          ],
          "scattercarpet": [
           {
            "marker": {
             "colorbar": {
              "outlinewidth": 0,
              "ticks": ""
             }
            },
            "type": "scattercarpet"
           }
          ],
          "scattergeo": [
           {
            "marker": {
             "colorbar": {
              "outlinewidth": 0,
              "ticks": ""
             }
            },
            "type": "scattergeo"
           }
          ],
          "scattergl": [
           {
            "marker": {
             "colorbar": {
              "outlinewidth": 0,
              "ticks": ""
             }
            },
            "type": "scattergl"
           }
          ],
          "scattermapbox": [
           {
            "marker": {
             "colorbar": {
              "outlinewidth": 0,
              "ticks": ""
             }
            },
            "type": "scattermapbox"
           }
          ],
          "scatterpolar": [
           {
            "marker": {
             "colorbar": {
              "outlinewidth": 0,
              "ticks": ""
             }
            },
            "type": "scatterpolar"
           }
          ],
          "scatterpolargl": [
           {
            "marker": {
             "colorbar": {
              "outlinewidth": 0,
              "ticks": ""
             }
            },
            "type": "scatterpolargl"
           }
          ],
          "scatterternary": [
           {
            "marker": {
             "colorbar": {
              "outlinewidth": 0,
              "ticks": ""
             }
            },
            "type": "scatterternary"
           }
          ],
          "surface": [
           {
            "colorbar": {
             "outlinewidth": 0,
             "ticks": ""
            },
            "colorscale": [
             [
              0,
              "#0d0887"
             ],
             [
              0.1111111111111111,
              "#46039f"
             ],
             [
              0.2222222222222222,
              "#7201a8"
             ],
             [
              0.3333333333333333,
              "#9c179e"
             ],
             [
              0.4444444444444444,
              "#bd3786"
             ],
             [
              0.5555555555555556,
              "#d8576b"
             ],
             [
              0.6666666666666666,
              "#ed7953"
             ],
             [
              0.7777777777777778,
              "#fb9f3a"
             ],
             [
              0.8888888888888888,
              "#fdca26"
             ],
             [
              1,
              "#f0f921"
             ]
            ],
            "type": "surface"
           }
          ],
          "table": [
           {
            "cells": {
             "fill": {
              "color": "#EBF0F8"
             },
             "line": {
              "color": "white"
             }
            },
            "header": {
             "fill": {
              "color": "#C8D4E3"
             },
             "line": {
              "color": "white"
             }
            },
            "type": "table"
           }
          ]
         },
         "layout": {
          "annotationdefaults": {
           "arrowcolor": "#2a3f5f",
           "arrowhead": 0,
           "arrowwidth": 1
          },
          "coloraxis": {
           "colorbar": {
            "outlinewidth": 0,
            "ticks": ""
           }
          },
          "colorscale": {
           "diverging": [
            [
             0,
             "#8e0152"
            ],
            [
             0.1,
             "#c51b7d"
            ],
            [
             0.2,
             "#de77ae"
            ],
            [
             0.3,
             "#f1b6da"
            ],
            [
             0.4,
             "#fde0ef"
            ],
            [
             0.5,
             "#f7f7f7"
            ],
            [
             0.6,
             "#e6f5d0"
            ],
            [
             0.7,
             "#b8e186"
            ],
            [
             0.8,
             "#7fbc41"
            ],
            [
             0.9,
             "#4d9221"
            ],
            [
             1,
             "#276419"
            ]
           ],
           "sequential": [
            [
             0,
             "#0d0887"
            ],
            [
             0.1111111111111111,
             "#46039f"
            ],
            [
             0.2222222222222222,
             "#7201a8"
            ],
            [
             0.3333333333333333,
             "#9c179e"
            ],
            [
             0.4444444444444444,
             "#bd3786"
            ],
            [
             0.5555555555555556,
             "#d8576b"
            ],
            [
             0.6666666666666666,
             "#ed7953"
            ],
            [
             0.7777777777777778,
             "#fb9f3a"
            ],
            [
             0.8888888888888888,
             "#fdca26"
            ],
            [
             1,
             "#f0f921"
            ]
           ],
           "sequentialminus": [
            [
             0,
             "#0d0887"
            ],
            [
             0.1111111111111111,
             "#46039f"
            ],
            [
             0.2222222222222222,
             "#7201a8"
            ],
            [
             0.3333333333333333,
             "#9c179e"
            ],
            [
             0.4444444444444444,
             "#bd3786"
            ],
            [
             0.5555555555555556,
             "#d8576b"
            ],
            [
             0.6666666666666666,
             "#ed7953"
            ],
            [
             0.7777777777777778,
             "#fb9f3a"
            ],
            [
             0.8888888888888888,
             "#fdca26"
            ],
            [
             1,
             "#f0f921"
            ]
           ]
          },
          "colorway": [
           "#636efa",
           "#EF553B",
           "#00cc96",
           "#ab63fa",
           "#FFA15A",
           "#19d3f3",
           "#FF6692",
           "#B6E880",
           "#FF97FF",
           "#FECB52"
          ],
          "font": {
           "color": "#2a3f5f"
          },
          "geo": {
           "bgcolor": "white",
           "lakecolor": "white",
           "landcolor": "#E5ECF6",
           "showlakes": true,
           "showland": true,
           "subunitcolor": "white"
          },
          "hoverlabel": {
           "align": "left"
          },
          "hovermode": "closest",
          "mapbox": {
           "style": "light"
          },
          "paper_bgcolor": "white",
          "plot_bgcolor": "#E5ECF6",
          "polar": {
           "angularaxis": {
            "gridcolor": "white",
            "linecolor": "white",
            "ticks": ""
           },
           "bgcolor": "#E5ECF6",
           "radialaxis": {
            "gridcolor": "white",
            "linecolor": "white",
            "ticks": ""
           }
          },
          "scene": {
           "xaxis": {
            "backgroundcolor": "#E5ECF6",
            "gridcolor": "white",
            "gridwidth": 2,
            "linecolor": "white",
            "showbackground": true,
            "ticks": "",
            "zerolinecolor": "white"
           },
           "yaxis": {
            "backgroundcolor": "#E5ECF6",
            "gridcolor": "white",
            "gridwidth": 2,
            "linecolor": "white",
            "showbackground": true,
            "ticks": "",
            "zerolinecolor": "white"
           },
           "zaxis": {
            "backgroundcolor": "#E5ECF6",
            "gridcolor": "white",
            "gridwidth": 2,
            "linecolor": "white",
            "showbackground": true,
            "ticks": "",
            "zerolinecolor": "white"
           }
          },
          "shapedefaults": {
           "line": {
            "color": "#2a3f5f"
           }
          },
          "ternary": {
           "aaxis": {
            "gridcolor": "white",
            "linecolor": "white",
            "ticks": ""
           },
           "baxis": {
            "gridcolor": "white",
            "linecolor": "white",
            "ticks": ""
           },
           "bgcolor": "#E5ECF6",
           "caxis": {
            "gridcolor": "white",
            "linecolor": "white",
            "ticks": ""
           }
          },
          "title": {
           "x": 0.05
          },
          "xaxis": {
           "automargin": true,
           "gridcolor": "white",
           "linecolor": "white",
           "ticks": "",
           "title": {
            "standoff": 15
           },
           "zerolinecolor": "white",
           "zerolinewidth": 2
          },
          "yaxis": {
           "automargin": true,
           "gridcolor": "white",
           "linecolor": "white",
           "ticks": "",
           "title": {
            "standoff": 15
           },
           "zerolinecolor": "white",
           "zerolinewidth": 2
          }
         }
        }
       }
      },
      "text/html": [
       "<div>\n",
       "        \n",
       "        \n",
       "            <div id=\"a2cd6a56-56c7-468f-b300-a18df516a12a\" class=\"plotly-graph-div\" style=\"height:525px; width:100%;\"></div>\n",
       "            <script type=\"text/javascript\">\n",
       "                require([\"plotly\"], function(Plotly) {\n",
       "                    window.PLOTLYENV=window.PLOTLYENV || {};\n",
       "                    \n",
       "                if (document.getElementById(\"a2cd6a56-56c7-468f-b300-a18df516a12a\")) {\n",
       "                    Plotly.newPlot(\n",
       "                        'a2cd6a56-56c7-468f-b300-a18df516a12a',\n",
       "                        [{\"type\": \"bar\", \"x\": [\"Austria\", \"Belgium\", \"Bulgaria\", \"Croatia\", \"Cyprus\", \"Czech Republic\", \"Denmark\", \"Estonia\", \"Finland\", \"France\", \"Germany\", \"Greece\", \"Hungary\", \"Ireland\", \"Italy\", \"Latvia\", \"Lithuania\", \"Luxembourg\", \"Malta\", \"Netherlands\", \"Poland\", \"Portugal\", \"Romania\", \"Slovak Republic\", \"Slovenia\", \"Spain\", \"Sweden\", \"United Kingdom\"], \"y\": [8797566.0, 11375158.0, 7075947.0, 4124531.0, 1179680.0, 10594438.0, 5764980.0, 1317384.0, 5508214.0, 66865144.0, 82657002.0, 10754679.0, 9787966.0, 4807388.0, 60536709.0, 1942248.0, 2828403.0, 596336.0, 467999.0, 17131296.0, 37974826.0, 10300300.0, 19587491.0, 5439232.0, 2066388.0, 46593236.0, 10057698.0, 66058859.0]}],\n",
       "                        {\"template\": {\"data\": {\"bar\": [{\"error_x\": {\"color\": \"#2a3f5f\"}, \"error_y\": {\"color\": \"#2a3f5f\"}, \"marker\": {\"line\": {\"color\": \"#E5ECF6\", \"width\": 0.5}}, \"type\": \"bar\"}], \"barpolar\": [{\"marker\": {\"line\": {\"color\": \"#E5ECF6\", \"width\": 0.5}}, \"type\": \"barpolar\"}], \"carpet\": [{\"aaxis\": {\"endlinecolor\": \"#2a3f5f\", \"gridcolor\": \"white\", \"linecolor\": \"white\", \"minorgridcolor\": \"white\", \"startlinecolor\": \"#2a3f5f\"}, \"baxis\": {\"endlinecolor\": \"#2a3f5f\", \"gridcolor\": \"white\", \"linecolor\": \"white\", \"minorgridcolor\": \"white\", \"startlinecolor\": \"#2a3f5f\"}, \"type\": \"carpet\"}], \"choropleth\": [{\"colorbar\": {\"outlinewidth\": 0, \"ticks\": \"\"}, \"type\": \"choropleth\"}], \"contour\": [{\"colorbar\": {\"outlinewidth\": 0, \"ticks\": \"\"}, \"colorscale\": [[0.0, \"#0d0887\"], [0.1111111111111111, \"#46039f\"], [0.2222222222222222, \"#7201a8\"], [0.3333333333333333, \"#9c179e\"], [0.4444444444444444, \"#bd3786\"], [0.5555555555555556, \"#d8576b\"], [0.6666666666666666, \"#ed7953\"], [0.7777777777777778, \"#fb9f3a\"], [0.8888888888888888, \"#fdca26\"], [1.0, \"#f0f921\"]], \"type\": \"contour\"}], \"contourcarpet\": [{\"colorbar\": {\"outlinewidth\": 0, \"ticks\": \"\"}, \"type\": \"contourcarpet\"}], \"heatmap\": [{\"colorbar\": {\"outlinewidth\": 0, \"ticks\": \"\"}, \"colorscale\": [[0.0, \"#0d0887\"], [0.1111111111111111, \"#46039f\"], [0.2222222222222222, \"#7201a8\"], [0.3333333333333333, \"#9c179e\"], [0.4444444444444444, \"#bd3786\"], [0.5555555555555556, \"#d8576b\"], [0.6666666666666666, \"#ed7953\"], [0.7777777777777778, \"#fb9f3a\"], [0.8888888888888888, \"#fdca26\"], [1.0, \"#f0f921\"]], \"type\": \"heatmap\"}], \"heatmapgl\": [{\"colorbar\": {\"outlinewidth\": 0, \"ticks\": \"\"}, \"colorscale\": [[0.0, \"#0d0887\"], [0.1111111111111111, \"#46039f\"], [0.2222222222222222, \"#7201a8\"], [0.3333333333333333, \"#9c179e\"], [0.4444444444444444, \"#bd3786\"], [0.5555555555555556, \"#d8576b\"], [0.6666666666666666, \"#ed7953\"], [0.7777777777777778, \"#fb9f3a\"], [0.8888888888888888, \"#fdca26\"], [1.0, \"#f0f921\"]], \"type\": \"heatmapgl\"}], \"histogram\": [{\"marker\": {\"colorbar\": {\"outlinewidth\": 0, \"ticks\": \"\"}}, \"type\": \"histogram\"}], \"histogram2d\": [{\"colorbar\": {\"outlinewidth\": 0, \"ticks\": \"\"}, \"colorscale\": [[0.0, \"#0d0887\"], [0.1111111111111111, \"#46039f\"], [0.2222222222222222, \"#7201a8\"], [0.3333333333333333, \"#9c179e\"], [0.4444444444444444, \"#bd3786\"], [0.5555555555555556, \"#d8576b\"], [0.6666666666666666, \"#ed7953\"], [0.7777777777777778, \"#fb9f3a\"], [0.8888888888888888, \"#fdca26\"], [1.0, \"#f0f921\"]], \"type\": \"histogram2d\"}], \"histogram2dcontour\": [{\"colorbar\": {\"outlinewidth\": 0, \"ticks\": \"\"}, \"colorscale\": [[0.0, \"#0d0887\"], [0.1111111111111111, \"#46039f\"], [0.2222222222222222, \"#7201a8\"], [0.3333333333333333, \"#9c179e\"], [0.4444444444444444, \"#bd3786\"], [0.5555555555555556, \"#d8576b\"], [0.6666666666666666, \"#ed7953\"], [0.7777777777777778, \"#fb9f3a\"], [0.8888888888888888, \"#fdca26\"], [1.0, \"#f0f921\"]], \"type\": \"histogram2dcontour\"}], \"mesh3d\": [{\"colorbar\": {\"outlinewidth\": 0, \"ticks\": \"\"}, \"type\": \"mesh3d\"}], \"parcoords\": [{\"line\": {\"colorbar\": {\"outlinewidth\": 0, \"ticks\": \"\"}}, \"type\": \"parcoords\"}], \"pie\": [{\"automargin\": true, \"type\": \"pie\"}], \"scatter\": [{\"marker\": {\"colorbar\": {\"outlinewidth\": 0, \"ticks\": \"\"}}, \"type\": \"scatter\"}], \"scatter3d\": [{\"line\": {\"colorbar\": {\"outlinewidth\": 0, \"ticks\": \"\"}}, \"marker\": {\"colorbar\": {\"outlinewidth\": 0, \"ticks\": \"\"}}, \"type\": \"scatter3d\"}], \"scattercarpet\": [{\"marker\": {\"colorbar\": {\"outlinewidth\": 0, \"ticks\": \"\"}}, \"type\": \"scattercarpet\"}], \"scattergeo\": [{\"marker\": {\"colorbar\": {\"outlinewidth\": 0, \"ticks\": \"\"}}, \"type\": \"scattergeo\"}], \"scattergl\": [{\"marker\": {\"colorbar\": {\"outlinewidth\": 0, \"ticks\": \"\"}}, \"type\": \"scattergl\"}], \"scattermapbox\": [{\"marker\": {\"colorbar\": {\"outlinewidth\": 0, \"ticks\": \"\"}}, \"type\": \"scattermapbox\"}], \"scatterpolar\": [{\"marker\": {\"colorbar\": {\"outlinewidth\": 0, \"ticks\": \"\"}}, \"type\": \"scatterpolar\"}], \"scatterpolargl\": [{\"marker\": {\"colorbar\": {\"outlinewidth\": 0, \"ticks\": \"\"}}, \"type\": \"scatterpolargl\"}], \"scatterternary\": [{\"marker\": {\"colorbar\": {\"outlinewidth\": 0, \"ticks\": \"\"}}, \"type\": \"scatterternary\"}], \"surface\": [{\"colorbar\": {\"outlinewidth\": 0, \"ticks\": \"\"}, \"colorscale\": [[0.0, \"#0d0887\"], [0.1111111111111111, \"#46039f\"], [0.2222222222222222, \"#7201a8\"], [0.3333333333333333, \"#9c179e\"], [0.4444444444444444, \"#bd3786\"], [0.5555555555555556, \"#d8576b\"], [0.6666666666666666, \"#ed7953\"], [0.7777777777777778, \"#fb9f3a\"], [0.8888888888888888, \"#fdca26\"], [1.0, \"#f0f921\"]], \"type\": \"surface\"}], \"table\": [{\"cells\": {\"fill\": {\"color\": \"#EBF0F8\"}, \"line\": {\"color\": \"white\"}}, \"header\": {\"fill\": {\"color\": \"#C8D4E3\"}, \"line\": {\"color\": \"white\"}}, \"type\": \"table\"}]}, \"layout\": {\"annotationdefaults\": {\"arrowcolor\": \"#2a3f5f\", \"arrowhead\": 0, \"arrowwidth\": 1}, \"coloraxis\": {\"colorbar\": {\"outlinewidth\": 0, \"ticks\": \"\"}}, \"colorscale\": {\"diverging\": [[0, \"#8e0152\"], [0.1, \"#c51b7d\"], [0.2, \"#de77ae\"], [0.3, \"#f1b6da\"], [0.4, \"#fde0ef\"], [0.5, \"#f7f7f7\"], [0.6, \"#e6f5d0\"], [0.7, \"#b8e186\"], [0.8, \"#7fbc41\"], [0.9, \"#4d9221\"], [1, \"#276419\"]], \"sequential\": [[0.0, \"#0d0887\"], [0.1111111111111111, \"#46039f\"], [0.2222222222222222, \"#7201a8\"], [0.3333333333333333, \"#9c179e\"], [0.4444444444444444, \"#bd3786\"], [0.5555555555555556, \"#d8576b\"], [0.6666666666666666, \"#ed7953\"], [0.7777777777777778, \"#fb9f3a\"], [0.8888888888888888, \"#fdca26\"], [1.0, \"#f0f921\"]], \"sequentialminus\": [[0.0, \"#0d0887\"], [0.1111111111111111, \"#46039f\"], [0.2222222222222222, \"#7201a8\"], [0.3333333333333333, \"#9c179e\"], [0.4444444444444444, \"#bd3786\"], [0.5555555555555556, \"#d8576b\"], [0.6666666666666666, \"#ed7953\"], [0.7777777777777778, \"#fb9f3a\"], [0.8888888888888888, \"#fdca26\"], [1.0, \"#f0f921\"]]}, \"colorway\": [\"#636efa\", \"#EF553B\", \"#00cc96\", \"#ab63fa\", \"#FFA15A\", \"#19d3f3\", \"#FF6692\", \"#B6E880\", \"#FF97FF\", \"#FECB52\"], \"font\": {\"color\": \"#2a3f5f\"}, \"geo\": {\"bgcolor\": \"white\", \"lakecolor\": \"white\", \"landcolor\": \"#E5ECF6\", \"showlakes\": true, \"showland\": true, \"subunitcolor\": \"white\"}, \"hoverlabel\": {\"align\": \"left\"}, \"hovermode\": \"closest\", \"mapbox\": {\"style\": \"light\"}, \"paper_bgcolor\": \"white\", \"plot_bgcolor\": \"#E5ECF6\", \"polar\": {\"angularaxis\": {\"gridcolor\": \"white\", \"linecolor\": \"white\", \"ticks\": \"\"}, \"bgcolor\": \"#E5ECF6\", \"radialaxis\": {\"gridcolor\": \"white\", \"linecolor\": \"white\", \"ticks\": \"\"}}, \"scene\": {\"xaxis\": {\"backgroundcolor\": \"#E5ECF6\", \"gridcolor\": \"white\", \"gridwidth\": 2, \"linecolor\": \"white\", \"showbackground\": true, \"ticks\": \"\", \"zerolinecolor\": \"white\"}, \"yaxis\": {\"backgroundcolor\": \"#E5ECF6\", \"gridcolor\": \"white\", \"gridwidth\": 2, \"linecolor\": \"white\", \"showbackground\": true, \"ticks\": \"\", \"zerolinecolor\": \"white\"}, \"zaxis\": {\"backgroundcolor\": \"#E5ECF6\", \"gridcolor\": \"white\", \"gridwidth\": 2, \"linecolor\": \"white\", \"showbackground\": true, \"ticks\": \"\", \"zerolinecolor\": \"white\"}}, \"shapedefaults\": {\"line\": {\"color\": \"#2a3f5f\"}}, \"ternary\": {\"aaxis\": {\"gridcolor\": \"white\", \"linecolor\": \"white\", \"ticks\": \"\"}, \"baxis\": {\"gridcolor\": \"white\", \"linecolor\": \"white\", \"ticks\": \"\"}, \"bgcolor\": \"#E5ECF6\", \"caxis\": {\"gridcolor\": \"white\", \"linecolor\": \"white\", \"ticks\": \"\"}}, \"title\": {\"x\": 0.05}, \"xaxis\": {\"automargin\": true, \"gridcolor\": \"white\", \"linecolor\": \"white\", \"ticks\": \"\", \"title\": {\"standoff\": 15}, \"zerolinecolor\": \"white\", \"zerolinewidth\": 2}, \"yaxis\": {\"automargin\": true, \"gridcolor\": \"white\", \"linecolor\": \"white\", \"ticks\": \"\", \"title\": {\"standoff\": 15}, \"zerolinecolor\": \"white\", \"zerolinewidth\": 2}}}},\n",
       "                        {\"responsive\": true}\n",
       "                    ).then(function(){\n",
       "                            \n",
       "var gd = document.getElementById('a2cd6a56-56c7-468f-b300-a18df516a12a');\n",
       "var x = new MutationObserver(function (mutations, observer) {{\n",
       "        var display = window.getComputedStyle(gd).display;\n",
       "        if (!display || display === 'none') {{\n",
       "            console.log([gd, 'removed!']);\n",
       "            Plotly.purge(gd);\n",
       "            observer.disconnect();\n",
       "        }}\n",
       "}});\n",
       "\n",
       "// Listen for the removal of the full notebook cells\n",
       "var notebookContainer = gd.closest('#notebook-container');\n",
       "if (notebookContainer) {{\n",
       "    x.observe(notebookContainer, {childList: true});\n",
       "}}\n",
       "\n",
       "// Listen for the clearing of the current output cell\n",
       "var outputEl = gd.closest('.output');\n",
       "if (outputEl) {{\n",
       "    x.observe(outputEl, {childList: true});\n",
       "}}\n",
       "\n",
       "                        })\n",
       "                };\n",
       "                });\n",
       "            </script>\n",
       "        </div>"
      ]
     },
     "metadata": {},
     "output_type": "display_data"
    }
   ],
   "source": [
    "# Визуализация\n",
    "\n",
    "# Гистограмма населения\n",
    "country_name = eu_df['Country']\n",
    "pops_17 = eu_df['Population']\n",
    "pops_hist = go.Figure([go.Bar(x=country_name, y=pops_17)])\n",
    "pops_hist.show()"
   ]
  },
  {
   "cell_type": "code",
   "execution_count": 9,
   "metadata": {
    "scrolled": false
   },
   "outputs": [
    {
     "data": {
      "application/vnd.plotly.v1+json": {
       "config": {
        "plotlyServerURL": "https://plot.ly"
       },
       "data": [
        {
         "marker": {
          "color": [
           432072509042.65704,
           530994736008.02,
           58950791931.772,
           63313308816.1669,
           26344455786.8222,
           241073815662.39603,
           361654604535.30896,
           25159220824.8951,
           264577624744.963,
           2875307593548.74,
           3878004030196.74,
           247927466910.085,
           154745522280.416,
           344958774769.011,
           2124739839580.94,
           29958505945.1773,
           47661382003.1623,
           65270740381.6428,
           12949237121.738998,
           924097826461.726,
           601720558485.059,
           240828150382.341,
           216033125760.32602,
           107853297691.47699,
           53151337559.3359,
           1504164957709.71,
           576984264815.19,
           2841238185458.8
          ],
          "line": {
           "width": 1.4
          },
          "showscale": true,
          "size": [
           2966.069115850135,
           3372.7078142050786,
           2660.065224764235,
           2030.894138058407,
           1086.1307471939094,
           3254.909829780235,
           2401.0372758455874,
           1147.77349681895,
           2346.9584572377926,
           8177.110981269608,
           9091.589629982207,
           3279.4327253352826,
           3128.5725179384926,
           2192.5756543389784,
           7780.533979104519,
           1393.6455790479874,
           1681.7856581621809,
           772.2279456222755,
           684.1045241774096,
           4138.996979945745,
           6162.37178365603,
           3209.408045107384,
           4425.775751210176,
           2332.2161134851976,
           1437.4936521598975,
           6825.923820260522,
           3171.387393555067,
           8127.660118385857
          ],
          "sizemode": "area",
          "sizeref": 1.8183179259964415
         },
         "mode": "markers",
         "text": [
          "Country: Austria<br>Population: 8797566.0<br>GDP: 432072509042.65704<br>Immigration: 111801<br>Emigration: 66144",
          "Country: Belgium<br>Population: 11375158.0<br>GDP: 530994736008.02<br>Immigration: 126703<br>Emigration: 89690",
          "Country: Bulgaria<br>Population: 7075947.0<br>GDP: 58950791931.772<br>Immigration: 25597<br>Emigration: 31586",
          "Country: Croatia<br>Population: 4124531.0<br>GDP: 63313308816.1669<br>Immigration: 15553<br>Emigration: 47352",
          "Country: Cyprus<br>Population: 1179680.0<br>GDP: 26344455786.8222<br>Immigration: 21306<br>Emigration: 15105",
          "Country: Czech Republic<br>Population: 10594438.0<br>GDP: 241073815662.39603<br>Immigration: 51847<br>Emigration: 27316",
          "Country: Denmark<br>Population: 5764980.0<br>GDP: 361654604535.30896<br>Immigration: 68579<br>Emigration: 56403",
          "Country: Estonia<br>Population: 1317384.0<br>GDP: 25159220824.8951<br>Immigration: 17616<br>Emigration: 12358",
          "Country: Finland<br>Population: 5508214.0<br>GDP: 264577624744.963<br>Immigration: 31797<br>Emigration: 16973",
          "Country: France<br>Population: 66865144.0<br>GDP: 2875307593548.74<br>Immigration: 369964<br>Emigration: 312554",
          "Country: Germany<br>Population: 82657002.0<br>GDP: 3878004030196.74<br>Immigration: 917109<br>Emigration: 560700",
          "Country: Greece<br>Population: 10754679.0<br>GDP: 247927466910.085<br>Immigration: 112247<br>Emigration: 103327",
          "Country: Hungary<br>Population: 9787966.0<br>GDP: 154745522280.416<br>Immigration: 68070<br>Emigration: 39829",
          "Country: Ireland<br>Population: 4807388.0<br>GDP: 344958774769.011<br>Immigration: 78499<br>Emigration: 64068",
          "Country: Italy<br>Population: 60536709.0<br>GDP: 2124739839580.94<br>Immigration: 343440<br>Emigration: 155110",
          "Country: Latvia<br>Population: 1942248.0<br>GDP: 29958505945.1773<br>Immigration: 9916<br>Emigration: 17724",
          "Country: Lithuania<br>Population: 2828403.0<br>GDP: 47661382003.1623<br>Immigration: 20368<br>Emigration: 47925",
          "Country: Luxembourg<br>Population: 596336.0<br>GDP: 65270740381.6428<br>Immigration: 24379<br>Emigration: 13831",
          "Country: Malta<br>Population: 467999.0<br>GDP: 12949237121.738998<br>Immigration: 21676<br>Emigration: 7020",
          "Country: Netherlands<br>Population: 17131296.0<br>GDP: 924097826461.726<br>Immigration: 189646<br>Emigration: 108231",
          "Country: Poland<br>Population: 37974826.0<br>GDP: 601720558485.059<br>Immigration: 209353<br>Emigration: 218492",
          "Country: Portugal<br>Population: 10300300.0<br>GDP: 240828150382.341<br>Immigration: 36639<br>Emigration: 31753",
          "Country: Romania<br>Population: 19587491.0<br>GDP: 216033125760.32602<br>Immigration: 177435<br>Emigration: 242193",
          "Country: Slovak Republic<br>Population: 5439232.0<br>GDP: 107853297691.47699<br>Immigration: 7188<br>Emigration: 3466",
          "Country: Slovenia<br>Population: 2066388.0<br>GDP: 53151337559.3359<br>Immigration: 18808<br>Emigration: 17555",
          "Country: Spain<br>Population: 46593236.0<br>GDP: 1504164957709.71<br>Immigration: 532132<br>Emigration: 368860",
          "Country: Sweden<br>Population: 10057698.0<br>GDP: 576984264815.19<br>Immigration: 144489<br>Emigration: 45620",
          "Country: United Kingdom<br>Population: 66058859.0<br>GDP: 2841238185458.8<br>Immigration: 644209<br>Emigration: 359665"
         ],
         "type": "scatter",
         "x": [
          111801,
          126703,
          25597,
          15553,
          21306,
          51847,
          68579,
          17616,
          31797,
          369964,
          917109,
          112247,
          68070,
          78499,
          343440,
          9916,
          20368,
          24379,
          21676,
          189646,
          209353,
          36639,
          177435,
          7188,
          18808,
          532132,
          144489,
          644209
         ],
         "y": [
          66144,
          89690,
          31586,
          47352,
          15105,
          27316,
          56403,
          12358,
          16973,
          312554,
          560700,
          103327,
          39829,
          64068,
          155110,
          17724,
          47925,
          13831,
          7020,
          108231,
          218492,
          31753,
          242193,
          3466,
          17555,
          368860,
          45620,
          359665
         ]
        }
       ],
       "layout": {
        "paper_bgcolor": "rgb(243, 243, 243)",
        "plot_bgcolor": "rgb(243, 243, 243)",
        "template": {
         "data": {
          "bar": [
           {
            "error_x": {
             "color": "#2a3f5f"
            },
            "error_y": {
             "color": "#2a3f5f"
            },
            "marker": {
             "line": {
              "color": "#E5ECF6",
              "width": 0.5
             }
            },
            "type": "bar"
           }
          ],
          "barpolar": [
           {
            "marker": {
             "line": {
              "color": "#E5ECF6",
              "width": 0.5
             }
            },
            "type": "barpolar"
           }
          ],
          "carpet": [
           {
            "aaxis": {
             "endlinecolor": "#2a3f5f",
             "gridcolor": "white",
             "linecolor": "white",
             "minorgridcolor": "white",
             "startlinecolor": "#2a3f5f"
            },
            "baxis": {
             "endlinecolor": "#2a3f5f",
             "gridcolor": "white",
             "linecolor": "white",
             "minorgridcolor": "white",
             "startlinecolor": "#2a3f5f"
            },
            "type": "carpet"
           }
          ],
          "choropleth": [
           {
            "colorbar": {
             "outlinewidth": 0,
             "ticks": ""
            },
            "type": "choropleth"
           }
          ],
          "contour": [
           {
            "colorbar": {
             "outlinewidth": 0,
             "ticks": ""
            },
            "colorscale": [
             [
              0,
              "#0d0887"
             ],
             [
              0.1111111111111111,
              "#46039f"
             ],
             [
              0.2222222222222222,
              "#7201a8"
             ],
             [
              0.3333333333333333,
              "#9c179e"
             ],
             [
              0.4444444444444444,
              "#bd3786"
             ],
             [
              0.5555555555555556,
              "#d8576b"
             ],
             [
              0.6666666666666666,
              "#ed7953"
             ],
             [
              0.7777777777777778,
              "#fb9f3a"
             ],
             [
              0.8888888888888888,
              "#fdca26"
             ],
             [
              1,
              "#f0f921"
             ]
            ],
            "type": "contour"
           }
          ],
          "contourcarpet": [
           {
            "colorbar": {
             "outlinewidth": 0,
             "ticks": ""
            },
            "type": "contourcarpet"
           }
          ],
          "heatmap": [
           {
            "colorbar": {
             "outlinewidth": 0,
             "ticks": ""
            },
            "colorscale": [
             [
              0,
              "#0d0887"
             ],
             [
              0.1111111111111111,
              "#46039f"
             ],
             [
              0.2222222222222222,
              "#7201a8"
             ],
             [
              0.3333333333333333,
              "#9c179e"
             ],
             [
              0.4444444444444444,
              "#bd3786"
             ],
             [
              0.5555555555555556,
              "#d8576b"
             ],
             [
              0.6666666666666666,
              "#ed7953"
             ],
             [
              0.7777777777777778,
              "#fb9f3a"
             ],
             [
              0.8888888888888888,
              "#fdca26"
             ],
             [
              1,
              "#f0f921"
             ]
            ],
            "type": "heatmap"
           }
          ],
          "heatmapgl": [
           {
            "colorbar": {
             "outlinewidth": 0,
             "ticks": ""
            },
            "colorscale": [
             [
              0,
              "#0d0887"
             ],
             [
              0.1111111111111111,
              "#46039f"
             ],
             [
              0.2222222222222222,
              "#7201a8"
             ],
             [
              0.3333333333333333,
              "#9c179e"
             ],
             [
              0.4444444444444444,
              "#bd3786"
             ],
             [
              0.5555555555555556,
              "#d8576b"
             ],
             [
              0.6666666666666666,
              "#ed7953"
             ],
             [
              0.7777777777777778,
              "#fb9f3a"
             ],
             [
              0.8888888888888888,
              "#fdca26"
             ],
             [
              1,
              "#f0f921"
             ]
            ],
            "type": "heatmapgl"
           }
          ],
          "histogram": [
           {
            "marker": {
             "colorbar": {
              "outlinewidth": 0,
              "ticks": ""
             }
            },
            "type": "histogram"
           }
          ],
          "histogram2d": [
           {
            "colorbar": {
             "outlinewidth": 0,
             "ticks": ""
            },
            "colorscale": [
             [
              0,
              "#0d0887"
             ],
             [
              0.1111111111111111,
              "#46039f"
             ],
             [
              0.2222222222222222,
              "#7201a8"
             ],
             [
              0.3333333333333333,
              "#9c179e"
             ],
             [
              0.4444444444444444,
              "#bd3786"
             ],
             [
              0.5555555555555556,
              "#d8576b"
             ],
             [
              0.6666666666666666,
              "#ed7953"
             ],
             [
              0.7777777777777778,
              "#fb9f3a"
             ],
             [
              0.8888888888888888,
              "#fdca26"
             ],
             [
              1,
              "#f0f921"
             ]
            ],
            "type": "histogram2d"
           }
          ],
          "histogram2dcontour": [
           {
            "colorbar": {
             "outlinewidth": 0,
             "ticks": ""
            },
            "colorscale": [
             [
              0,
              "#0d0887"
             ],
             [
              0.1111111111111111,
              "#46039f"
             ],
             [
              0.2222222222222222,
              "#7201a8"
             ],
             [
              0.3333333333333333,
              "#9c179e"
             ],
             [
              0.4444444444444444,
              "#bd3786"
             ],
             [
              0.5555555555555556,
              "#d8576b"
             ],
             [
              0.6666666666666666,
              "#ed7953"
             ],
             [
              0.7777777777777778,
              "#fb9f3a"
             ],
             [
              0.8888888888888888,
              "#fdca26"
             ],
             [
              1,
              "#f0f921"
             ]
            ],
            "type": "histogram2dcontour"
           }
          ],
          "mesh3d": [
           {
            "colorbar": {
             "outlinewidth": 0,
             "ticks": ""
            },
            "type": "mesh3d"
           }
          ],
          "parcoords": [
           {
            "line": {
             "colorbar": {
              "outlinewidth": 0,
              "ticks": ""
             }
            },
            "type": "parcoords"
           }
          ],
          "pie": [
           {
            "automargin": true,
            "type": "pie"
           }
          ],
          "scatter": [
           {
            "marker": {
             "colorbar": {
              "outlinewidth": 0,
              "ticks": ""
             }
            },
            "type": "scatter"
           }
          ],
          "scatter3d": [
           {
            "line": {
             "colorbar": {
              "outlinewidth": 0,
              "ticks": ""
             }
            },
            "marker": {
             "colorbar": {
              "outlinewidth": 0,
              "ticks": ""
             }
            },
            "type": "scatter3d"
           }
          ],
          "scattercarpet": [
           {
            "marker": {
             "colorbar": {
              "outlinewidth": 0,
              "ticks": ""
             }
            },
            "type": "scattercarpet"
           }
          ],
          "scattergeo": [
           {
            "marker": {
             "colorbar": {
              "outlinewidth": 0,
              "ticks": ""
             }
            },
            "type": "scattergeo"
           }
          ],
          "scattergl": [
           {
            "marker": {
             "colorbar": {
              "outlinewidth": 0,
              "ticks": ""
             }
            },
            "type": "scattergl"
           }
          ],
          "scattermapbox": [
           {
            "marker": {
             "colorbar": {
              "outlinewidth": 0,
              "ticks": ""
             }
            },
            "type": "scattermapbox"
           }
          ],
          "scatterpolar": [
           {
            "marker": {
             "colorbar": {
              "outlinewidth": 0,
              "ticks": ""
             }
            },
            "type": "scatterpolar"
           }
          ],
          "scatterpolargl": [
           {
            "marker": {
             "colorbar": {
              "outlinewidth": 0,
              "ticks": ""
             }
            },
            "type": "scatterpolargl"
           }
          ],
          "scatterternary": [
           {
            "marker": {
             "colorbar": {
              "outlinewidth": 0,
              "ticks": ""
             }
            },
            "type": "scatterternary"
           }
          ],
          "surface": [
           {
            "colorbar": {
             "outlinewidth": 0,
             "ticks": ""
            },
            "colorscale": [
             [
              0,
              "#0d0887"
             ],
             [
              0.1111111111111111,
              "#46039f"
             ],
             [
              0.2222222222222222,
              "#7201a8"
             ],
             [
              0.3333333333333333,
              "#9c179e"
             ],
             [
              0.4444444444444444,
              "#bd3786"
             ],
             [
              0.5555555555555556,
              "#d8576b"
             ],
             [
              0.6666666666666666,
              "#ed7953"
             ],
             [
              0.7777777777777778,
              "#fb9f3a"
             ],
             [
              0.8888888888888888,
              "#fdca26"
             ],
             [
              1,
              "#f0f921"
             ]
            ],
            "type": "surface"
           }
          ],
          "table": [
           {
            "cells": {
             "fill": {
              "color": "#EBF0F8"
             },
             "line": {
              "color": "white"
             }
            },
            "header": {
             "fill": {
              "color": "#C8D4E3"
             },
             "line": {
              "color": "white"
             }
            },
            "type": "table"
           }
          ]
         },
         "layout": {
          "annotationdefaults": {
           "arrowcolor": "#2a3f5f",
           "arrowhead": 0,
           "arrowwidth": 1
          },
          "coloraxis": {
           "colorbar": {
            "outlinewidth": 0,
            "ticks": ""
           }
          },
          "colorscale": {
           "diverging": [
            [
             0,
             "#8e0152"
            ],
            [
             0.1,
             "#c51b7d"
            ],
            [
             0.2,
             "#de77ae"
            ],
            [
             0.3,
             "#f1b6da"
            ],
            [
             0.4,
             "#fde0ef"
            ],
            [
             0.5,
             "#f7f7f7"
            ],
            [
             0.6,
             "#e6f5d0"
            ],
            [
             0.7,
             "#b8e186"
            ],
            [
             0.8,
             "#7fbc41"
            ],
            [
             0.9,
             "#4d9221"
            ],
            [
             1,
             "#276419"
            ]
           ],
           "sequential": [
            [
             0,
             "#0d0887"
            ],
            [
             0.1111111111111111,
             "#46039f"
            ],
            [
             0.2222222222222222,
             "#7201a8"
            ],
            [
             0.3333333333333333,
             "#9c179e"
            ],
            [
             0.4444444444444444,
             "#bd3786"
            ],
            [
             0.5555555555555556,
             "#d8576b"
            ],
            [
             0.6666666666666666,
             "#ed7953"
            ],
            [
             0.7777777777777778,
             "#fb9f3a"
            ],
            [
             0.8888888888888888,
             "#fdca26"
            ],
            [
             1,
             "#f0f921"
            ]
           ],
           "sequentialminus": [
            [
             0,
             "#0d0887"
            ],
            [
             0.1111111111111111,
             "#46039f"
            ],
            [
             0.2222222222222222,
             "#7201a8"
            ],
            [
             0.3333333333333333,
             "#9c179e"
            ],
            [
             0.4444444444444444,
             "#bd3786"
            ],
            [
             0.5555555555555556,
             "#d8576b"
            ],
            [
             0.6666666666666666,
             "#ed7953"
            ],
            [
             0.7777777777777778,
             "#fb9f3a"
            ],
            [
             0.8888888888888888,
             "#fdca26"
            ],
            [
             1,
             "#f0f921"
            ]
           ]
          },
          "colorway": [
           "#636efa",
           "#EF553B",
           "#00cc96",
           "#ab63fa",
           "#FFA15A",
           "#19d3f3",
           "#FF6692",
           "#B6E880",
           "#FF97FF",
           "#FECB52"
          ],
          "font": {
           "color": "#2a3f5f"
          },
          "geo": {
           "bgcolor": "white",
           "lakecolor": "white",
           "landcolor": "#E5ECF6",
           "showlakes": true,
           "showland": true,
           "subunitcolor": "white"
          },
          "hoverlabel": {
           "align": "left"
          },
          "hovermode": "closest",
          "mapbox": {
           "style": "light"
          },
          "paper_bgcolor": "white",
          "plot_bgcolor": "#E5ECF6",
          "polar": {
           "angularaxis": {
            "gridcolor": "white",
            "linecolor": "white",
            "ticks": ""
           },
           "bgcolor": "#E5ECF6",
           "radialaxis": {
            "gridcolor": "white",
            "linecolor": "white",
            "ticks": ""
           }
          },
          "scene": {
           "xaxis": {
            "backgroundcolor": "#E5ECF6",
            "gridcolor": "white",
            "gridwidth": 2,
            "linecolor": "white",
            "showbackground": true,
            "ticks": "",
            "zerolinecolor": "white"
           },
           "yaxis": {
            "backgroundcolor": "#E5ECF6",
            "gridcolor": "white",
            "gridwidth": 2,
            "linecolor": "white",
            "showbackground": true,
            "ticks": "",
            "zerolinecolor": "white"
           },
           "zaxis": {
            "backgroundcolor": "#E5ECF6",
            "gridcolor": "white",
            "gridwidth": 2,
            "linecolor": "white",
            "showbackground": true,
            "ticks": "",
            "zerolinecolor": "white"
           }
          },
          "shapedefaults": {
           "line": {
            "color": "#2a3f5f"
           }
          },
          "ternary": {
           "aaxis": {
            "gridcolor": "white",
            "linecolor": "white",
            "ticks": ""
           },
           "baxis": {
            "gridcolor": "white",
            "linecolor": "white",
            "ticks": ""
           },
           "bgcolor": "#E5ECF6",
           "caxis": {
            "gridcolor": "white",
            "linecolor": "white",
            "ticks": ""
           }
          },
          "title": {
           "x": 0.05
          },
          "xaxis": {
           "automargin": true,
           "gridcolor": "white",
           "linecolor": "white",
           "ticks": "",
           "title": {
            "standoff": 15
           },
           "zerolinecolor": "white",
           "zerolinewidth": 2
          },
          "yaxis": {
           "automargin": true,
           "gridcolor": "white",
           "linecolor": "white",
           "ticks": "",
           "title": {
            "standoff": 15
           },
           "zerolinecolor": "white",
           "zerolinewidth": 2
          }
         }
        },
        "title": {
         "text": "Emigration v. Immigration, 2017"
        },
        "xaxis": {
         "gridcolor": "white",
         "gridwidth": 2,
         "title": {
          "text": "Immigration"
         },
         "type": "log"
        },
        "yaxis": {
         "gridcolor": "white",
         "gridwidth": 2,
         "title": {
          "text": "Emigration"
         },
         "type": "log"
        }
       }
      },
      "text/html": [
       "<div>\n",
       "        \n",
       "        \n",
       "            <div id=\"448de20d-4b12-4964-b4b6-7645a2450b6a\" class=\"plotly-graph-div\" style=\"height:525px; width:100%;\"></div>\n",
       "            <script type=\"text/javascript\">\n",
       "                require([\"plotly\"], function(Plotly) {\n",
       "                    window.PLOTLYENV=window.PLOTLYENV || {};\n",
       "                    \n",
       "                if (document.getElementById(\"448de20d-4b12-4964-b4b6-7645a2450b6a\")) {\n",
       "                    Plotly.newPlot(\n",
       "                        '448de20d-4b12-4964-b4b6-7645a2450b6a',\n",
       "                        [{\"marker\": {\"color\": [432072509042.65704, 530994736008.02, 58950791931.772, 63313308816.1669, 26344455786.8222, 241073815662.39603, 361654604535.30896, 25159220824.8951, 264577624744.963, 2875307593548.74, 3878004030196.74, 247927466910.085, 154745522280.416, 344958774769.011, 2124739839580.94, 29958505945.1773, 47661382003.1623, 65270740381.6428, 12949237121.738998, 924097826461.726, 601720558485.059, 240828150382.341, 216033125760.32602, 107853297691.47699, 53151337559.3359, 1504164957709.71, 576984264815.19, 2841238185458.8], \"line\": {\"width\": 1.4}, \"showscale\": true, \"size\": [2966.069115850135, 3372.7078142050786, 2660.065224764235, 2030.894138058407, 1086.1307471939094, 3254.909829780235, 2401.0372758455874, 1147.77349681895, 2346.9584572377926, 8177.110981269608, 9091.589629982207, 3279.4327253352826, 3128.5725179384926, 2192.5756543389784, 7780.533979104519, 1393.6455790479874, 1681.7856581621809, 772.2279456222755, 684.1045241774096, 4138.996979945745, 6162.37178365603, 3209.408045107384, 4425.775751210176, 2332.2161134851976, 1437.4936521598975, 6825.923820260522, 3171.387393555067, 8127.660118385857], \"sizemode\": \"area\", \"sizeref\": 1.8183179259964415}, \"mode\": \"markers\", \"text\": [\"Country: Austria<br>Population: 8797566.0<br>GDP: 432072509042.65704<br>Immigration: 111801<br>Emigration: 66144\", \"Country: Belgium<br>Population: 11375158.0<br>GDP: 530994736008.02<br>Immigration: 126703<br>Emigration: 89690\", \"Country: Bulgaria<br>Population: 7075947.0<br>GDP: 58950791931.772<br>Immigration: 25597<br>Emigration: 31586\", \"Country: Croatia<br>Population: 4124531.0<br>GDP: 63313308816.1669<br>Immigration: 15553<br>Emigration: 47352\", \"Country: Cyprus<br>Population: 1179680.0<br>GDP: 26344455786.8222<br>Immigration: 21306<br>Emigration: 15105\", \"Country: Czech Republic<br>Population: 10594438.0<br>GDP: 241073815662.39603<br>Immigration: 51847<br>Emigration: 27316\", \"Country: Denmark<br>Population: 5764980.0<br>GDP: 361654604535.30896<br>Immigration: 68579<br>Emigration: 56403\", \"Country: Estonia<br>Population: 1317384.0<br>GDP: 25159220824.8951<br>Immigration: 17616<br>Emigration: 12358\", \"Country: Finland<br>Population: 5508214.0<br>GDP: 264577624744.963<br>Immigration: 31797<br>Emigration: 16973\", \"Country: France<br>Population: 66865144.0<br>GDP: 2875307593548.74<br>Immigration: 369964<br>Emigration: 312554\", \"Country: Germany<br>Population: 82657002.0<br>GDP: 3878004030196.74<br>Immigration: 917109<br>Emigration: 560700\", \"Country: Greece<br>Population: 10754679.0<br>GDP: 247927466910.085<br>Immigration: 112247<br>Emigration: 103327\", \"Country: Hungary<br>Population: 9787966.0<br>GDP: 154745522280.416<br>Immigration: 68070<br>Emigration: 39829\", \"Country: Ireland<br>Population: 4807388.0<br>GDP: 344958774769.011<br>Immigration: 78499<br>Emigration: 64068\", \"Country: Italy<br>Population: 60536709.0<br>GDP: 2124739839580.94<br>Immigration: 343440<br>Emigration: 155110\", \"Country: Latvia<br>Population: 1942248.0<br>GDP: 29958505945.1773<br>Immigration: 9916<br>Emigration: 17724\", \"Country: Lithuania<br>Population: 2828403.0<br>GDP: 47661382003.1623<br>Immigration: 20368<br>Emigration: 47925\", \"Country: Luxembourg<br>Population: 596336.0<br>GDP: 65270740381.6428<br>Immigration: 24379<br>Emigration: 13831\", \"Country: Malta<br>Population: 467999.0<br>GDP: 12949237121.738998<br>Immigration: 21676<br>Emigration: 7020\", \"Country: Netherlands<br>Population: 17131296.0<br>GDP: 924097826461.726<br>Immigration: 189646<br>Emigration: 108231\", \"Country: Poland<br>Population: 37974826.0<br>GDP: 601720558485.059<br>Immigration: 209353<br>Emigration: 218492\", \"Country: Portugal<br>Population: 10300300.0<br>GDP: 240828150382.341<br>Immigration: 36639<br>Emigration: 31753\", \"Country: Romania<br>Population: 19587491.0<br>GDP: 216033125760.32602<br>Immigration: 177435<br>Emigration: 242193\", \"Country: Slovak Republic<br>Population: 5439232.0<br>GDP: 107853297691.47699<br>Immigration: 7188<br>Emigration: 3466\", \"Country: Slovenia<br>Population: 2066388.0<br>GDP: 53151337559.3359<br>Immigration: 18808<br>Emigration: 17555\", \"Country: Spain<br>Population: 46593236.0<br>GDP: 1504164957709.71<br>Immigration: 532132<br>Emigration: 368860\", \"Country: Sweden<br>Population: 10057698.0<br>GDP: 576984264815.19<br>Immigration: 144489<br>Emigration: 45620\", \"Country: United Kingdom<br>Population: 66058859.0<br>GDP: 2841238185458.8<br>Immigration: 644209<br>Emigration: 359665\"], \"type\": \"scatter\", \"x\": [111801, 126703, 25597, 15553, 21306, 51847, 68579, 17616, 31797, 369964, 917109, 112247, 68070, 78499, 343440, 9916, 20368, 24379, 21676, 189646, 209353, 36639, 177435, 7188, 18808, 532132, 144489, 644209], \"y\": [66144, 89690, 31586, 47352, 15105, 27316, 56403, 12358, 16973, 312554, 560700, 103327, 39829, 64068, 155110, 17724, 47925, 13831, 7020, 108231, 218492, 31753, 242193, 3466, 17555, 368860, 45620, 359665]}],\n",
       "                        {\"paper_bgcolor\": \"rgb(243, 243, 243)\", \"plot_bgcolor\": \"rgb(243, 243, 243)\", \"template\": {\"data\": {\"bar\": [{\"error_x\": {\"color\": \"#2a3f5f\"}, \"error_y\": {\"color\": \"#2a3f5f\"}, \"marker\": {\"line\": {\"color\": \"#E5ECF6\", \"width\": 0.5}}, \"type\": \"bar\"}], \"barpolar\": [{\"marker\": {\"line\": {\"color\": \"#E5ECF6\", \"width\": 0.5}}, \"type\": \"barpolar\"}], \"carpet\": [{\"aaxis\": {\"endlinecolor\": \"#2a3f5f\", \"gridcolor\": \"white\", \"linecolor\": \"white\", \"minorgridcolor\": \"white\", \"startlinecolor\": \"#2a3f5f\"}, \"baxis\": {\"endlinecolor\": \"#2a3f5f\", \"gridcolor\": \"white\", \"linecolor\": \"white\", \"minorgridcolor\": \"white\", \"startlinecolor\": \"#2a3f5f\"}, \"type\": \"carpet\"}], \"choropleth\": [{\"colorbar\": {\"outlinewidth\": 0, \"ticks\": \"\"}, \"type\": \"choropleth\"}], \"contour\": [{\"colorbar\": {\"outlinewidth\": 0, \"ticks\": \"\"}, \"colorscale\": [[0.0, \"#0d0887\"], [0.1111111111111111, \"#46039f\"], [0.2222222222222222, \"#7201a8\"], [0.3333333333333333, \"#9c179e\"], [0.4444444444444444, \"#bd3786\"], [0.5555555555555556, \"#d8576b\"], [0.6666666666666666, \"#ed7953\"], [0.7777777777777778, \"#fb9f3a\"], [0.8888888888888888, \"#fdca26\"], [1.0, \"#f0f921\"]], \"type\": \"contour\"}], \"contourcarpet\": [{\"colorbar\": {\"outlinewidth\": 0, \"ticks\": \"\"}, \"type\": \"contourcarpet\"}], \"heatmap\": [{\"colorbar\": {\"outlinewidth\": 0, \"ticks\": \"\"}, \"colorscale\": [[0.0, \"#0d0887\"], [0.1111111111111111, \"#46039f\"], [0.2222222222222222, \"#7201a8\"], [0.3333333333333333, \"#9c179e\"], [0.4444444444444444, \"#bd3786\"], [0.5555555555555556, \"#d8576b\"], [0.6666666666666666, \"#ed7953\"], [0.7777777777777778, \"#fb9f3a\"], [0.8888888888888888, \"#fdca26\"], [1.0, \"#f0f921\"]], \"type\": \"heatmap\"}], \"heatmapgl\": [{\"colorbar\": {\"outlinewidth\": 0, \"ticks\": \"\"}, \"colorscale\": [[0.0, \"#0d0887\"], [0.1111111111111111, \"#46039f\"], [0.2222222222222222, \"#7201a8\"], [0.3333333333333333, \"#9c179e\"], [0.4444444444444444, \"#bd3786\"], [0.5555555555555556, \"#d8576b\"], [0.6666666666666666, \"#ed7953\"], [0.7777777777777778, \"#fb9f3a\"], [0.8888888888888888, \"#fdca26\"], [1.0, \"#f0f921\"]], \"type\": \"heatmapgl\"}], \"histogram\": [{\"marker\": {\"colorbar\": {\"outlinewidth\": 0, \"ticks\": \"\"}}, \"type\": \"histogram\"}], \"histogram2d\": [{\"colorbar\": {\"outlinewidth\": 0, \"ticks\": \"\"}, \"colorscale\": [[0.0, \"#0d0887\"], [0.1111111111111111, \"#46039f\"], [0.2222222222222222, \"#7201a8\"], [0.3333333333333333, \"#9c179e\"], [0.4444444444444444, \"#bd3786\"], [0.5555555555555556, \"#d8576b\"], [0.6666666666666666, \"#ed7953\"], [0.7777777777777778, \"#fb9f3a\"], [0.8888888888888888, \"#fdca26\"], [1.0, \"#f0f921\"]], \"type\": \"histogram2d\"}], \"histogram2dcontour\": [{\"colorbar\": {\"outlinewidth\": 0, \"ticks\": \"\"}, \"colorscale\": [[0.0, \"#0d0887\"], [0.1111111111111111, \"#46039f\"], [0.2222222222222222, \"#7201a8\"], [0.3333333333333333, \"#9c179e\"], [0.4444444444444444, \"#bd3786\"], [0.5555555555555556, \"#d8576b\"], [0.6666666666666666, \"#ed7953\"], [0.7777777777777778, \"#fb9f3a\"], [0.8888888888888888, \"#fdca26\"], [1.0, \"#f0f921\"]], \"type\": \"histogram2dcontour\"}], \"mesh3d\": [{\"colorbar\": {\"outlinewidth\": 0, \"ticks\": \"\"}, \"type\": \"mesh3d\"}], \"parcoords\": [{\"line\": {\"colorbar\": {\"outlinewidth\": 0, \"ticks\": \"\"}}, \"type\": \"parcoords\"}], \"pie\": [{\"automargin\": true, \"type\": \"pie\"}], \"scatter\": [{\"marker\": {\"colorbar\": {\"outlinewidth\": 0, \"ticks\": \"\"}}, \"type\": \"scatter\"}], \"scatter3d\": [{\"line\": {\"colorbar\": {\"outlinewidth\": 0, \"ticks\": \"\"}}, \"marker\": {\"colorbar\": {\"outlinewidth\": 0, \"ticks\": \"\"}}, \"type\": \"scatter3d\"}], \"scattercarpet\": [{\"marker\": {\"colorbar\": {\"outlinewidth\": 0, \"ticks\": \"\"}}, \"type\": \"scattercarpet\"}], \"scattergeo\": [{\"marker\": {\"colorbar\": {\"outlinewidth\": 0, \"ticks\": \"\"}}, \"type\": \"scattergeo\"}], \"scattergl\": [{\"marker\": {\"colorbar\": {\"outlinewidth\": 0, \"ticks\": \"\"}}, \"type\": \"scattergl\"}], \"scattermapbox\": [{\"marker\": {\"colorbar\": {\"outlinewidth\": 0, \"ticks\": \"\"}}, \"type\": \"scattermapbox\"}], \"scatterpolar\": [{\"marker\": {\"colorbar\": {\"outlinewidth\": 0, \"ticks\": \"\"}}, \"type\": \"scatterpolar\"}], \"scatterpolargl\": [{\"marker\": {\"colorbar\": {\"outlinewidth\": 0, \"ticks\": \"\"}}, \"type\": \"scatterpolargl\"}], \"scatterternary\": [{\"marker\": {\"colorbar\": {\"outlinewidth\": 0, \"ticks\": \"\"}}, \"type\": \"scatterternary\"}], \"surface\": [{\"colorbar\": {\"outlinewidth\": 0, \"ticks\": \"\"}, \"colorscale\": [[0.0, \"#0d0887\"], [0.1111111111111111, \"#46039f\"], [0.2222222222222222, \"#7201a8\"], [0.3333333333333333, \"#9c179e\"], [0.4444444444444444, \"#bd3786\"], [0.5555555555555556, \"#d8576b\"], [0.6666666666666666, \"#ed7953\"], [0.7777777777777778, \"#fb9f3a\"], [0.8888888888888888, \"#fdca26\"], [1.0, \"#f0f921\"]], \"type\": \"surface\"}], \"table\": [{\"cells\": {\"fill\": {\"color\": \"#EBF0F8\"}, \"line\": {\"color\": \"white\"}}, \"header\": {\"fill\": {\"color\": \"#C8D4E3\"}, \"line\": {\"color\": \"white\"}}, \"type\": \"table\"}]}, \"layout\": {\"annotationdefaults\": {\"arrowcolor\": \"#2a3f5f\", \"arrowhead\": 0, \"arrowwidth\": 1}, \"coloraxis\": {\"colorbar\": {\"outlinewidth\": 0, \"ticks\": \"\"}}, \"colorscale\": {\"diverging\": [[0, \"#8e0152\"], [0.1, \"#c51b7d\"], [0.2, \"#de77ae\"], [0.3, \"#f1b6da\"], [0.4, \"#fde0ef\"], [0.5, \"#f7f7f7\"], [0.6, \"#e6f5d0\"], [0.7, \"#b8e186\"], [0.8, \"#7fbc41\"], [0.9, \"#4d9221\"], [1, \"#276419\"]], \"sequential\": [[0.0, \"#0d0887\"], [0.1111111111111111, \"#46039f\"], [0.2222222222222222, \"#7201a8\"], [0.3333333333333333, \"#9c179e\"], [0.4444444444444444, \"#bd3786\"], [0.5555555555555556, \"#d8576b\"], [0.6666666666666666, \"#ed7953\"], [0.7777777777777778, \"#fb9f3a\"], [0.8888888888888888, \"#fdca26\"], [1.0, \"#f0f921\"]], \"sequentialminus\": [[0.0, \"#0d0887\"], [0.1111111111111111, \"#46039f\"], [0.2222222222222222, \"#7201a8\"], [0.3333333333333333, \"#9c179e\"], [0.4444444444444444, \"#bd3786\"], [0.5555555555555556, \"#d8576b\"], [0.6666666666666666, \"#ed7953\"], [0.7777777777777778, \"#fb9f3a\"], [0.8888888888888888, \"#fdca26\"], [1.0, \"#f0f921\"]]}, \"colorway\": [\"#636efa\", \"#EF553B\", \"#00cc96\", \"#ab63fa\", \"#FFA15A\", \"#19d3f3\", \"#FF6692\", \"#B6E880\", \"#FF97FF\", \"#FECB52\"], \"font\": {\"color\": \"#2a3f5f\"}, \"geo\": {\"bgcolor\": \"white\", \"lakecolor\": \"white\", \"landcolor\": \"#E5ECF6\", \"showlakes\": true, \"showland\": true, \"subunitcolor\": \"white\"}, \"hoverlabel\": {\"align\": \"left\"}, \"hovermode\": \"closest\", \"mapbox\": {\"style\": \"light\"}, \"paper_bgcolor\": \"white\", \"plot_bgcolor\": \"#E5ECF6\", \"polar\": {\"angularaxis\": {\"gridcolor\": \"white\", \"linecolor\": \"white\", \"ticks\": \"\"}, \"bgcolor\": \"#E5ECF6\", \"radialaxis\": {\"gridcolor\": \"white\", \"linecolor\": \"white\", \"ticks\": \"\"}}, \"scene\": {\"xaxis\": {\"backgroundcolor\": \"#E5ECF6\", \"gridcolor\": \"white\", \"gridwidth\": 2, \"linecolor\": \"white\", \"showbackground\": true, \"ticks\": \"\", \"zerolinecolor\": \"white\"}, \"yaxis\": {\"backgroundcolor\": \"#E5ECF6\", \"gridcolor\": \"white\", \"gridwidth\": 2, \"linecolor\": \"white\", \"showbackground\": true, \"ticks\": \"\", \"zerolinecolor\": \"white\"}, \"zaxis\": {\"backgroundcolor\": \"#E5ECF6\", \"gridcolor\": \"white\", \"gridwidth\": 2, \"linecolor\": \"white\", \"showbackground\": true, \"ticks\": \"\", \"zerolinecolor\": \"white\"}}, \"shapedefaults\": {\"line\": {\"color\": \"#2a3f5f\"}}, \"ternary\": {\"aaxis\": {\"gridcolor\": \"white\", \"linecolor\": \"white\", \"ticks\": \"\"}, \"baxis\": {\"gridcolor\": \"white\", \"linecolor\": \"white\", \"ticks\": \"\"}, \"bgcolor\": \"#E5ECF6\", \"caxis\": {\"gridcolor\": \"white\", \"linecolor\": \"white\", \"ticks\": \"\"}}, \"title\": {\"x\": 0.05}, \"xaxis\": {\"automargin\": true, \"gridcolor\": \"white\", \"linecolor\": \"white\", \"ticks\": \"\", \"title\": {\"standoff\": 15}, \"zerolinecolor\": \"white\", \"zerolinewidth\": 2}, \"yaxis\": {\"automargin\": true, \"gridcolor\": \"white\", \"linecolor\": \"white\", \"ticks\": \"\", \"title\": {\"standoff\": 15}, \"zerolinecolor\": \"white\", \"zerolinewidth\": 2}}}, \"title\": {\"text\": \"Emigration v. Immigration, 2017\"}, \"xaxis\": {\"gridcolor\": \"white\", \"gridwidth\": 2, \"title\": {\"text\": \"Immigration\"}, \"type\": \"log\"}, \"yaxis\": {\"gridcolor\": \"white\", \"gridwidth\": 2, \"title\": {\"text\": \"Emigration\"}, \"type\": \"log\"}},\n",
       "                        {\"responsive\": true}\n",
       "                    ).then(function(){\n",
       "                            \n",
       "var gd = document.getElementById('448de20d-4b12-4964-b4b6-7645a2450b6a');\n",
       "var x = new MutationObserver(function (mutations, observer) {{\n",
       "        var display = window.getComputedStyle(gd).display;\n",
       "        if (!display || display === 'none') {{\n",
       "            console.log([gd, 'removed!']);\n",
       "            Plotly.purge(gd);\n",
       "            observer.disconnect();\n",
       "        }}\n",
       "}});\n",
       "\n",
       "// Listen for the removal of the full notebook cells\n",
       "var notebookContainer = gd.closest('#notebook-container');\n",
       "if (notebookContainer) {{\n",
       "    x.observe(notebookContainer, {childList: true});\n",
       "}}\n",
       "\n",
       "// Listen for the clearing of the current output cell\n",
       "var outputEl = gd.closest('.output');\n",
       "if (outputEl) {{\n",
       "    x.observe(outputEl, {childList: true});\n",
       "}}\n",
       "\n",
       "                        })\n",
       "                };\n",
       "                });\n",
       "            </script>\n",
       "        </div>"
      ]
     },
     "metadata": {},
     "output_type": "display_data"
    }
   ],
   "source": [
    "# Биг плоу\n",
    "hover_text = []\n",
    "bubble_size = []\n",
    "\n",
    "for index, row in eu_df.iterrows():\n",
    "    hover_text.append(('Country: {country}<br>' +\n",
    "                       'Population: {popul}<br>' +\n",
    "                       'GDP: {gdp}<br>' +\n",
    "                       'Immigration: {immi}<br>' +\n",
    "                       'Emigration: {emi}').format(country=row['Country'],\n",
    "                                                   popul=row['Population'],\n",
    "                                                   gdp=row['GDP'],\n",
    "                                                   immi=row['Immigration'],\n",
    "                                                   emi=row['Emigration']))\n",
    "    bubble_size.append(np.sqrt(row['Population']))\n",
    "\n",
    "eu_scatter = go.Figure(data=[go.Scatter(\n",
    "    x=eu_df['Immigration'],\n",
    "    y=eu_df['Emigration'],\n",
    "    text=hover_text,\n",
    "    mode='markers',\n",
    "    marker=dict(\n",
    "        color=eu_df['GDP'],\n",
    "        size=bubble_size,\n",
    "        sizemode='area',\n",
    "        sizeref=2.*max(bubble_size)/(100**2),\n",
    "        line_width=1.4,\n",
    "        showscale=True\n",
    "    )\n",
    ")])\n",
    "\n",
    "eu_scatter.update_layout(\n",
    "    title='Emigration v. Immigration, 2017',\n",
    "    xaxis=dict(\n",
    "        title='Immigration',\n",
    "        gridcolor='white',\n",
    "        type='log',\n",
    "        gridwidth=2,\n",
    "    ),\n",
    "    yaxis=dict(\n",
    "        title='Emigration',\n",
    "        gridcolor='white',\n",
    "        type='log',\n",
    "        gridwidth=2,\n",
    "    ),\n",
    "    paper_bgcolor='rgb(243, 243, 243)',\n",
    "    plot_bgcolor='rgb(243, 243, 243)',\n",
    ")\n",
    "\n",
    "eu_scatter.show()"
   ]
  }
 ],
 "metadata": {
  "kernelspec": {
   "display_name": "Python 3",
   "language": "python",
   "name": "python3"
  },
  "language_info": {
   "codemirror_mode": {
    "name": "ipython",
    "version": 3
   },
   "file_extension": ".py",
   "mimetype": "text/x-python",
   "name": "python",
   "nbconvert_exporter": "python",
   "pygments_lexer": "ipython3",
   "version": "3.7.3"
  }
 },
 "nbformat": 4,
 "nbformat_minor": 4
}
